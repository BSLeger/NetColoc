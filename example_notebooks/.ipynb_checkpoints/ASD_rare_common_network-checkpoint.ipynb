{
 "cells": [
  {
   "cell_type": "markdown",
   "metadata": {},
   "source": [
    "# NetColoc analysis of rare and common variants in Autism spectrum disorder (ASD)"
   ]
  },
  {
   "cell_type": "code",
   "execution_count": 4,
   "metadata": {},
   "outputs": [
    {
     "name": "stderr",
     "output_type": "stream",
     "text": [
      "UsageError: Line magic function `%` not found.\n"
     ]
    }
   ],
   "source": [
    "# load required packages\n",
    "\n",
    "import numpy as np\n",
    "import matplotlib.pyplot as plt\n",
    "import seaborn as sns\n",
    "import networkx as nx\n",
    "import pandas as pd\n",
    "import random\n",
    "\n",
    "from IPython.display import display\n",
    "\n",
    "# latex rendering of text in graphs\n",
    "import matplotlib as mpl\n",
    "mpl.rc('text', usetex = False)\n",
    "mpl.rc('font', family = 'serif')\n",
    "\n",
    "from matplotlib import rcParams\n",
    "rcParams['font.family'] = 'sans-serif'\n",
    "rcParams['font.sans-serif'] = ['Arial']\n",
    "\n",
    "sns.set(font_scale=1.4)\n",
    "\n",
    "sns.set_style('white')\n",
    "\n",
    "sns.set_style(\"ticks\", {\"xtick.major.size\": 15, \"ytick.major.size\": 15})\n",
    "plt.rcParams['svg.fonttype'] = 'none'\n",
    "\n",
    "import sys\n",
    "\n",
    "% matplotlib inline"
   ]
  },
  {
   "cell_type": "code",
   "execution_count": 5,
   "metadata": {},
   "outputs": [
    {
     "data": {
      "text/plain": [
       "<module 'network_prop' from '/Users/brinrosenthal/Documents/GitHub/NetColoc/code/network_prop.py'>"
      ]
     },
     "execution_count": 5,
     "metadata": {},
     "output_type": "execute_result"
    }
   ],
   "source": [
    "import sys\n",
    "sys.path.append('/Users/brinrosenthal/Documents/GitHub/NetColoc/code/')\n",
    "\n",
    "import netprop_zscore\n",
    "import network_prop\n",
    "\n",
    "import imp\n",
    "imp.reload(netprop_zscore)\n",
    "imp.reload(network_prop)"
   ]
  },
  {
   "cell_type": "markdown",
   "metadata": {},
   "source": [
    "# 1. Map variants to genes\n",
    "\n",
    "Common variants: PASCAL (REF)\n",
    "\n",
    "Rare variants: well defined variant calling procedures from exomes (REF) \n",
    "\n",
    "Need to add guidance on these steps... not sure if they should go in the notebook or if we should just recommend how they would be done upstream.\n",
    "\n",
    "For now, load pre-mapped genes"
   ]
  },
  {
   "cell_type": "code",
   "execution_count": 24,
   "metadata": {},
   "outputs": [
    {
     "name": "stdout",
     "output_type": "stream",
     "text": [
      "number rare genes:\n",
      "102\n",
      "['CHD8', 'SCN2A', 'SYNGAP1', 'ADNP', 'FOXP1']\n"
     ]
    }
   ],
   "source": [
    "# load rare variants (from https://www.sciencedirect.com/science/article/abs/pii/S0092867419313984)\n",
    "\n",
    "ASD_rare_df = pd.read_csv('../data/HC_genes/Satterstrom--Top-102-ASD-genes--May2019.csv')\n",
    "ASD_rare_df.index=ASD_rare_df['gene']\n",
    "print('number rare genes:')\n",
    "print(len(ASD_rare_df))\n",
    "ASD_rare_genes = ASD_rare_df.index.tolist() # define rare variant genes to seed network propagation\n",
    "print(ASD_rare_genes[0:5])"
   ]
  },
  {
   "cell_type": "code",
   "execution_count": 29,
   "metadata": {},
   "outputs": [
    {
     "name": "stdout",
     "output_type": "stream",
     "text": [
      "number common genes:\n",
      "45\n",
      "['NTM', 'PLEKHM1', 'LRRC37A4P', 'LOC644172', 'CRHR1']\n"
     ]
    }
   ],
   "source": [
    "# load common variant genes (ASD summary stats from LINK, mapped using PASCAL)\n",
    "ASD_common_df = pd.read_csv('../data/HC_genes/ASD_sumstats_pascal.sum.genescores.txt',sep='\\t')\n",
    "pthresh=1E-4 # set p-value cutoff for common variant genes\n",
    "ASD_common_genes = ASD_common_df[ASD_common_df['pvalue']<pthresh]['gene_symbol'].tolist()\n",
    "print('number common genes:')\n",
    "print(len(ASD_common_genes))\n",
    "print(ASD_common_genes[0:5])\n"
   ]
  },
  {
   "cell_type": "code",
   "execution_count": 27,
   "metadata": {},
   "outputs": [
    {
     "name": "stdout",
     "output_type": "stream",
     "text": [
      "number of rare and common genes overlapping:\n",
      "0\n"
     ]
    }
   ],
   "source": [
    "# how much overlap between gene sets?\n",
    "print('number of rare and common genes overlapping:')\n",
    "print(len(np.intersect1d(ASD_common_genes,ASD_rare_genes)))"
   ]
  },
  {
   "cell_type": "markdown",
   "metadata": {},
   "source": [
    "# 2. Load interactome\n",
    "\n",
    "Need guidance on choosing interactome. For now stick with PCNet"
   ]
  },
  {
   "cell_type": "code",
   "execution_count": 28,
   "metadata": {},
   "outputs": [
    {
     "name": "stdout",
     "output_type": "stream",
     "text": [
      "number of nodes:\n",
      "19781\n",
      "\n",
      "number of edges:\n",
      "2724724\n"
     ]
    }
   ],
   "source": [
    "import ndex2\n",
    "interactome_uuid='f93f402c-86d4-11e7-a10d-0ac135e8bacf'\n",
    "ndex_server='public.ndexbio.org'\n",
    "ndex_user=None\n",
    "ndex_password=None\n",
    "G_PC = ndex2.create_nice_cx_from_server(\n",
    "            ndex_server, \n",
    "            username=ndex_user, \n",
    "            password=ndex_password, \n",
    "            uuid=interactome_uuid\n",
    "        ).to_networkx()\n",
    "nodes = list(G_PC.nodes)\n",
    "\n",
    "# print out interactome num nodes and edges for diagnostic purposes\n",
    "print('number of nodes:')\n",
    "print(len(G_PC.nodes))\n",
    "print('\\nnumber of edges:')\n",
    "print(len(G_PC.edges))"
   ]
  },
  {
   "cell_type": "code",
   "execution_count": 30,
   "metadata": {},
   "outputs": [],
   "source": [
    "pc_nodes = list(G_PC.nodes)"
   ]
  },
  {
   "cell_type": "markdown",
   "metadata": {},
   "source": [
    "# 3. Network co-localization\n",
    "\n",
    "Network propagation from genes on selected interactome\n",
    "- Control for degree of input genes\n",
    "- Generate a proximity z-score, which defines genes which are closer to input set than expected by chance.\n",
    "- Repeat for rare and common variant genes, defined above\n",
    "- Tips on parameter selection\n"
   ]
  },
  {
   "cell_type": "code",
   "execution_count": 32,
   "metadata": {},
   "outputs": [
    {
     "name": "stdout",
     "output_type": "stream",
     "text": [
      "\n",
      "calculating w_prime\n",
      "\n",
      "calculating w_double_prime\n"
     ]
    }
   ],
   "source": [
    "# pre calculate mats used for netprop... this step takes a few minutes, more for denser interactomes\n",
    "print('\\ncalculating w_prime')\n",
    "w_prime = network_prop.normalized_adj_matrix(G_PC, conserve_heat=True)\n",
    "\n",
    "print('\\ncalculating w_double_prime')\n",
    "w_double_prime = network_prop.get_w_double_prime(w_prime, .5)"
   ]
  },
  {
   "cell_type": "code",
   "execution_count": 33,
   "metadata": {},
   "outputs": [
    {
     "name": "stdout",
     "output_type": "stream",
     "text": [
      "102\n",
      "102\n",
      "45\n",
      "33\n"
     ]
    }
   ],
   "source": [
    "# subset seed genes to those found in interactome\n",
    "print(len(ASD_rare_genes))\n",
    "ASD_rare_genes = list(np.intersect1d(ASD_rare_genes,pc_nodes))\n",
    "print(len(ASD_rare_genes))\n",
    "\n",
    "print(len(ASD_common_genes))\n",
    "ASD_common_genes = list(np.intersect1d(ASD_common_genes,pc_nodes))\n",
    "print(len(ASD_common_genes))\n"
   ]
  },
  {
   "cell_type": "code",
   "execution_count": 34,
   "metadata": {},
   "outputs": [
    {
     "name": "stdout",
     "output_type": "stream",
     "text": [
      "\n",
      "Calculating rare variant z-scores: \n",
      "0\n",
      "0.00011706352233886719\n",
      "250\n",
      "19.495866060256958\n",
      "500\n",
      "38.81687116622925\n",
      "750\n",
      "57.8363561630249\n"
     ]
    },
    {
     "name": "stderr",
     "output_type": "stream",
     "text": [
      "/Users/brinrosenthal/anaconda3/lib/python3.7/site-packages/pandas/core/series.py:679: RuntimeWarning: divide by zero encountered in log\n",
      "  result = getattr(ufunc, method)(*inputs, **kwargs)\n",
      "/Users/brinrosenthal/Documents/GitHub/NetColoc/code/netprop_zscore.py:126: RuntimeWarning: divide by zero encountered in log\n",
      "  z_scores = (np.log(final_heat) - np.nanmean(np.log(random_final_heats), axis=0)) / np.nanstd(np.log(random_final_heats), axis=0)\n",
      "/Users/brinrosenthal/anaconda3/lib/python3.7/site-packages/numpy/lib/nanfunctions.py:1541: RuntimeWarning: invalid value encountered in subtract\n",
      "  np.subtract(arr, avg, out=arr, casting='unsafe')\n"
     ]
    },
    {
     "data": {
      "text/html": [
       "<div>\n",
       "<style scoped>\n",
       "    .dataframe tbody tr th:only-of-type {\n",
       "        vertical-align: middle;\n",
       "    }\n",
       "\n",
       "    .dataframe tbody tr th {\n",
       "        vertical-align: top;\n",
       "    }\n",
       "\n",
       "    .dataframe thead th {\n",
       "        text-align: right;\n",
       "    }\n",
       "</style>\n",
       "<table border=\"1\" class=\"dataframe\">\n",
       "  <thead>\n",
       "    <tr style=\"text-align: right;\">\n",
       "      <th></th>\n",
       "      <th>z</th>\n",
       "    </tr>\n",
       "  </thead>\n",
       "  <tbody>\n",
       "    <tr>\n",
       "      <th>UBE2Q1</th>\n",
       "      <td>2.762555</td>\n",
       "    </tr>\n",
       "    <tr>\n",
       "      <th>RNF14</th>\n",
       "      <td>-0.712890</td>\n",
       "    </tr>\n",
       "    <tr>\n",
       "      <th>UBE2Q2</th>\n",
       "      <td>0.460829</td>\n",
       "    </tr>\n",
       "    <tr>\n",
       "      <th>RNF10</th>\n",
       "      <td>-0.767211</td>\n",
       "    </tr>\n",
       "    <tr>\n",
       "      <th>RNF11</th>\n",
       "      <td>0.938522</td>\n",
       "    </tr>\n",
       "  </tbody>\n",
       "</table>\n",
       "</div>"
      ],
      "text/plain": [
       "               z\n",
       "UBE2Q1  2.762555\n",
       "RNF14  -0.712890\n",
       "UBE2Q2  0.460829\n",
       "RNF10  -0.767211\n",
       "RNF11   0.938522"
      ]
     },
     "execution_count": 34,
     "metadata": {},
     "output_type": "execute_result"
    }
   ],
   "source": [
    "# Rare variant netprop\n",
    "print('\\nCalculating rare variant z-scores: ')\n",
    "z_rare, Fnew_rare, Fnew_rand_rare = netprop_zscore.calc_zscore_heat(w_double_prime, pc_nodes, \n",
    "                                                                    dict(G_PC.degree), \n",
    "                                                                    ASD_rare_genes, num_reps=1000,\n",
    "                                                                    min_in_bin=50)\n",
    "\n",
    "z_rare = pd.DataFrame({'z':z_rare})\n",
    "z_rare.head()"
   ]
  },
  {
   "cell_type": "code",
   "execution_count": 35,
   "metadata": {},
   "outputs": [
    {
     "name": "stdout",
     "output_type": "stream",
     "text": [
      "\n",
      "Calculating common variant z-scores: \n",
      "0\n",
      "9.393692016601562e-05\n",
      "250\n",
      "7.188688039779663\n",
      "500\n",
      "14.289726972579956\n",
      "750\n",
      "21.43828296661377\n"
     ]
    },
    {
     "data": {
      "text/html": [
       "<div>\n",
       "<style scoped>\n",
       "    .dataframe tbody tr th:only-of-type {\n",
       "        vertical-align: middle;\n",
       "    }\n",
       "\n",
       "    .dataframe tbody tr th {\n",
       "        vertical-align: top;\n",
       "    }\n",
       "\n",
       "    .dataframe thead th {\n",
       "        text-align: right;\n",
       "    }\n",
       "</style>\n",
       "<table border=\"1\" class=\"dataframe\">\n",
       "  <thead>\n",
       "    <tr style=\"text-align: right;\">\n",
       "      <th></th>\n",
       "      <th>z</th>\n",
       "    </tr>\n",
       "  </thead>\n",
       "  <tbody>\n",
       "    <tr>\n",
       "      <th>UBE2Q1</th>\n",
       "      <td>0.154466</td>\n",
       "    </tr>\n",
       "    <tr>\n",
       "      <th>RNF14</th>\n",
       "      <td>1.341829</td>\n",
       "    </tr>\n",
       "    <tr>\n",
       "      <th>UBE2Q2</th>\n",
       "      <td>-0.498023</td>\n",
       "    </tr>\n",
       "    <tr>\n",
       "      <th>RNF10</th>\n",
       "      <td>-0.750695</td>\n",
       "    </tr>\n",
       "    <tr>\n",
       "      <th>RNF11</th>\n",
       "      <td>0.731178</td>\n",
       "    </tr>\n",
       "  </tbody>\n",
       "</table>\n",
       "</div>"
      ],
      "text/plain": [
       "               z\n",
       "UBE2Q1  0.154466\n",
       "RNF14   1.341829\n",
       "UBE2Q2 -0.498023\n",
       "RNF10  -0.750695\n",
       "RNF11   0.731178"
      ]
     },
     "execution_count": 35,
     "metadata": {},
     "output_type": "execute_result"
    }
   ],
   "source": [
    "# common variant netprop\n",
    "print('\\nCalculating common variant z-scores: ')\n",
    "z_common, Fnew_common, Fnew_rand_common = netprop_zscore.calc_zscore_heat(w_double_prime, pc_nodes, \n",
    "                                                                    dict(G_PC.degree), \n",
    "                                                                    ASD_common_genes, num_reps=1000,\n",
    "                                                                    min_in_bin=50)\n",
    "\n",
    "z_common = pd.DataFrame({'z':z_common})\n",
    "z_common.head()"
   ]
  },
  {
   "cell_type": "markdown",
   "metadata": {},
   "source": [
    "## calculate size of network overlap, and compare to expected size\n",
    "\n",
    "Note: seed genes are excluded from this calculation"
   ]
  },
  {
   "cell_type": "code",
   "execution_count": 38,
   "metadata": {},
   "outputs": [],
   "source": [
    "# ------ TODO: these functions should be incorporated to network_colocalization module ------\n",
    "\n",
    "def calculate_network_overlap(z1,z2,zthresh=4):\n",
    "    z_merged = z1.join(z2['z'],lsuffix='_1',rsuffix='_2')\n",
    "    z_combined = z_merged['z_1']*z_merged['z_2']*(z_merged['z_1']>0)*(z_merged['z_2']>0)\n",
    "    # get rid of unlikely genes which have low scores in either z1 or z2\n",
    "    high_z_genes = z_combined[(z_combined>=zthresh)&(z1['z']>1.5)&(z2['z']>1.5)].index.tolist()\n",
    "    \n",
    "    return(high_z_genes)\n",
    "\n",
    "def calculate_expected_overlap(d1,d2,z1,z2,plot=False,zthresh=4,numreps=1000):\n",
    "\n",
    "    z_d1d2_size=len(calculate_network_overlap(z1,z2,zthresh=zthresh))\n",
    "\n",
    "    high_z_rand = []\n",
    "    for r in np.arange(numreps):\n",
    "        # use permutation shuffling method instead of Fnew comparison\n",
    "        d1_shuf_genes = z1.index.tolist()\n",
    "        np.random.shuffle(d1_shuf_genes)\n",
    "        d1_shuf=z1[:]\n",
    "        d1_shuf.index=d1_shuf_genes\n",
    "\n",
    "        d2_shuf_genes = z2.index.tolist()\n",
    "        np.random.shuffle(d2_shuf_genes)\n",
    "        d2_shuf=z2[:]\n",
    "        d2_shuf.index=d2_shuf_genes\n",
    "\n",
    "        high_z_temp = len(calculate_network_overlap(d1_shuf,d2_shuf,zthresh=zthresh))\n",
    "        high_z_rand.append(high_z_temp)\n",
    "\n",
    "    if plot==True:\n",
    "        sns.distplot(high_z_rand,label='expected network intersection size')\n",
    "        plt.plot([z_d1d2_size,z_d1d2_size],[0,0.015],label='observed '+d1+'-'+d2+' network intersection size')\n",
    "        plt.xlabel('size of proximal subgraph, z>='+str(zthresh),fontsize=16)\n",
    "        plt.legend(fontsize=12)\n",
    "    return z_d1d2_size,high_z_rand"
   ]
  },
  {
   "cell_type": "code",
   "execution_count": 39,
   "metadata": {},
   "outputs": [
    {
     "name": "stdout",
     "output_type": "stream",
     "text": [
      "ASD_rare + ASD_common\n",
      "334\n",
      "1.6831284015319492\n",
      "2.3630806867729244e-30\n"
     ]
    }
   ],
   "source": [
    "from scipy.stats import hypergeom\n",
    "from scipy.stats import norm\n",
    "\n",
    "z_dict = {'ASD_rare':z_rare,'ASD_common':z_common}\n",
    "\n",
    "seed_dict = {'ASD_rare':ASD_rare_genes,'ASD_common':ASD_common_genes}\n",
    "\n",
    "# save the num overlap and overlap p-val in dataframes\n",
    "\n",
    "focal_diseases = ['ASD_rare','ASD_common']\n",
    "\n",
    "network_num_overlap = pd.DataFrame(np.zeros((len(focal_diseases),len(focal_diseases))),index=focal_diseases)\n",
    "network_num_overlap.columns = focal_diseases\n",
    "\n",
    "network_obs_exp = pd.DataFrame(np.zeros((len(focal_diseases),len(focal_diseases))),index=focal_diseases)\n",
    "network_obs_exp.columns = focal_diseases\n",
    "\n",
    "network_pval_overlap = pd.DataFrame(np.ones((len(focal_diseases),len(focal_diseases))),index=focal_diseases)\n",
    "network_pval_overlap.columns = focal_diseases\n",
    "\n",
    "network_exp_mean_overlap = pd.DataFrame(np.ones((len(focal_diseases),len(focal_diseases))),index=focal_diseases)\n",
    "network_exp_mean_overlap.columns = focal_diseases\n",
    "\n",
    "network_exp_std_overlap = pd.DataFrame(np.ones((len(focal_diseases),len(focal_diseases))),index=focal_diseases)\n",
    "network_exp_std_overlap.columns = focal_diseases\n",
    "\n",
    "\n",
    "zthresh=3\n",
    "for i in np.arange(len(focal_diseases)-1):\n",
    "    for j in np.arange(1+i,len(focal_diseases)):\n",
    "        d1=focal_diseases[i]\n",
    "        d2=focal_diseases[j]\n",
    "        \n",
    "        seed1 = seed_dict[d1]\n",
    "        seed2 = seed_dict[d2]\n",
    "        \n",
    "        z1=z_dict[d1]\n",
    "        z1_noseeds = z1.drop(list(np.intersect1d(seed1+seed2,z1.index.tolist())))\n",
    "        z2=z_dict[d2]\n",
    "        z2_noseeds = z2.drop(list(np.intersect1d(seed1+seed2,z2.index.tolist())))\n",
    "\n",
    "        # replace hypergeometric with permutation empirical p\n",
    "        z_d1d2_size,high_z_rand=calculate_expected_overlap(d1,d2,z1_noseeds,z2_noseeds,\n",
    "                                                           plot=False,numreps=100,zthresh=zthresh)\n",
    "        ztemp = (z_d1d2_size-np.mean(high_z_rand))/np.std(high_z_rand)\n",
    "        ptemp = norm.sf(ztemp)\n",
    "        print(d1+' + '+d2)\n",
    "        print(z_d1d2_size)\n",
    "        obs_exp_temp = float(z_d1d2_size)/np.mean(high_z_rand)\n",
    "        print(obs_exp_temp)\n",
    "        print(ptemp)\n",
    "        \n",
    "        \n",
    "        network_num_overlap.loc[d1][d2]=z_d1d2_size\n",
    "        network_num_overlap.loc[d2][d1]=z_d1d2_size\n",
    "\n",
    "        network_pval_overlap.loc[d1][d2]=ptemp\n",
    "        network_pval_overlap.loc[d2][d1]=ptemp\n",
    "        \n",
    "        network_obs_exp.loc[d1][d2]=obs_exp_temp\n",
    "        network_obs_exp.loc[d2][d1]=obs_exp_temp\n",
    "        \n",
    "        network_exp_mean_overlap.loc[d1][d2]=np.mean(high_z_rand)\n",
    "        network_exp_mean_overlap.loc[d2][d1]=np.mean(high_z_rand)\n",
    "        \n",
    "        network_exp_std_overlap.loc[d1][d2]=np.std(high_z_rand)\n",
    "        network_exp_std_overlap.loc[d2][d1]=np.std(high_z_rand)\n",
    "        \n",
    "        "
   ]
  },
  {
   "cell_type": "code",
   "execution_count": 42,
   "metadata": {
    "scrolled": true
   },
   "outputs": [
    {
     "data": {
      "text/plain": [
       "(-0.5, 0.5)"
      ]
     },
     "execution_count": 42,
     "metadata": {},
     "output_type": "execute_result"
    },
    {
     "data": {
      "image/png": "[encoded data removed]",
      "text/plain": [
       "<Figure size 144x216 with 1 Axes>"
      ]
     },
     "metadata": {},
     "output_type": "display_data"
    }
   ],
   "source": [
    "# plot the overlap ... useful when there are lots of comparisons... not so much here\n",
    "xlabels = []\n",
    "observed_overlap_list=[]\n",
    "mean_exp_overlap_list=[]\n",
    "std_exp_overlap_list=[]\n",
    "for i in range(len(focal_diseases)-1): #[0]: #\n",
    "    for j in range(i+1,len(focal_diseases)):\n",
    "        di = focal_diseases[i]\n",
    "        dj=focal_diseases[j]\n",
    "        xlabels.append(di+'-'+dj)\n",
    "        observed_overlap_list.append(network_num_overlap.loc[di][dj])\n",
    "        mean_exp_overlap_list.append(network_exp_mean_overlap.loc[di][dj])\n",
    "        std_exp_overlap_list.append(network_exp_std_overlap.loc[di][dj])\n",
    "        \n",
    "obs_div_exp_list = np.divide(observed_overlap_list,mean_exp_overlap_list)\n",
    "# change to 95% confidence interval (*1.96 sigma)\n",
    "yerr_lower =  np.subtract(obs_div_exp_list,np.divide(observed_overlap_list,np.add(mean_exp_overlap_list,1.96*np.array(std_exp_overlap_list))))\n",
    "yerr_upper = np.subtract(np.divide(observed_overlap_list,np.subtract(mean_exp_overlap_list,1.96*np.array(std_exp_overlap_list))),obs_div_exp_list)\n",
    "\n",
    "log_yerr_lower = np.subtract(np.log2(obs_div_exp_list),np.log2(np.divide(observed_overlap_list,np.add(mean_exp_overlap_list,2*np.array(std_exp_overlap_list)))))\n",
    "log_yerr_upper = np.subtract(np.log2(np.divide(observed_overlap_list,np.subtract(mean_exp_overlap_list,2*np.array(std_exp_overlap_list)))),np.log2(obs_div_exp_list))\n",
    "\n",
    "log_obs_div_exp=np.log2(obs_div_exp_list)\n",
    "# log_yerr_lower=np.log2(obs_div_exp_lower_list)\n",
    "# log_yerr_upper=np.log2(obs_div_exp_upper_list)\n",
    "\n",
    "network_intersection_df = pd.DataFrame({'name':xlabels,'observed_overlap':observed_overlap_list,\n",
    "                                       'log2_obs_div_exp':log_obs_div_exp,\n",
    "                                       'log2_yerr_lower':log_yerr_lower,\n",
    "                                       'log2_yerr_upper':log_yerr_upper,\n",
    "                                        'obs_div_exp':obs_div_exp_list,\n",
    "                                       'yerr_lower':yerr_lower,\n",
    "                                       'yerr_upper':yerr_upper})\n",
    "network_intersection_df.index=network_intersection_df['name']\n",
    "\n",
    "# sort it \n",
    "network_intersection_df=network_intersection_df.sort_values('obs_div_exp',ascending=False)\n",
    "\n",
    "plt.figure(figsize=(2,3))\n",
    "plt.errorbar(np.arange(len(network_intersection_df)),network_intersection_df['obs_div_exp'],\n",
    "             yerr=[network_intersection_df['yerr_lower'],network_intersection_df['yerr_upper']],\n",
    "             fmt='o',color='k')\n",
    "tmp=plt.xticks(np.arange(len(observed_overlap_list)),network_intersection_df.index.tolist(),fontsize=16,rotation='vertical')\n",
    "plt.ylabel('observed/expected size of network intersection\\n(95% CI)',fontsize=16)\n",
    "#plt.plot([0,len(obs_div_exp_list)],[0,0],'gray','--')\n",
    "plt.hlines(1,xmin=-.5,xmax=len(network_intersection_df),color='gray',linestyles='dashed')\n",
    "# plt.ylim([0.8,1.5])\n",
    "plt.yticks(fontsize=16)\n",
    "plt.xlim([-.5,len(network_intersection_df)-.5])"
   ]
  },
  {
   "cell_type": "markdown",
   "metadata": {},
   "source": [
    "## umap viz for G_overlap\n",
    "\n",
    "Gives indication of clustering structure in the network"
   ]
  },
  {
   "cell_type": "code",
   "execution_count": 57,
   "metadata": {},
   "outputs": [
    {
     "data": {
      "text/html": [
       "<div>\n",
       "<style scoped>\n",
       "    .dataframe tbody tr th:only-of-type {\n",
       "        vertical-align: middle;\n",
       "    }\n",
       "\n",
       "    .dataframe tbody tr th {\n",
       "        vertical-align: top;\n",
       "    }\n",
       "\n",
       "    .dataframe thead th {\n",
       "        text-align: right;\n",
       "    }\n",
       "</style>\n",
       "<table border=\"1\" class=\"dataframe\">\n",
       "  <thead>\n",
       "    <tr style=\"text-align: right;\">\n",
       "      <th></th>\n",
       "      <th>RC3H2</th>\n",
       "      <th>HIVEP1</th>\n",
       "      <th>SUOX</th>\n",
       "      <th>PSD2</th>\n",
       "      <th>ALX1</th>\n",
       "      <th>CUX2</th>\n",
       "      <th>CNTN1</th>\n",
       "      <th>ZHX2</th>\n",
       "      <th>KIF1A</th>\n",
       "      <th>KANSL3</th>\n",
       "      <th>...</th>\n",
       "      <th>IGSF10</th>\n",
       "      <th>CADM1</th>\n",
       "      <th>KMT5B</th>\n",
       "      <th>TAF4</th>\n",
       "      <th>PADI6</th>\n",
       "      <th>POU3F1</th>\n",
       "      <th>KCNH5</th>\n",
       "      <th>ULK4</th>\n",
       "      <th>KCNB1</th>\n",
       "      <th>SEPSECS</th>\n",
       "    </tr>\n",
       "  </thead>\n",
       "  <tbody>\n",
       "    <tr>\n",
       "      <th>RC3H2</th>\n",
       "      <td>0.0</td>\n",
       "      <td>0.0</td>\n",
       "      <td>0.0</td>\n",
       "      <td>0.0</td>\n",
       "      <td>0.0</td>\n",
       "      <td>0.0</td>\n",
       "      <td>0.0</td>\n",
       "      <td>0.0</td>\n",
       "      <td>0.0</td>\n",
       "      <td>0.0</td>\n",
       "      <td>...</td>\n",
       "      <td>0.0</td>\n",
       "      <td>0.0</td>\n",
       "      <td>1.0</td>\n",
       "      <td>0.0</td>\n",
       "      <td>0.0</td>\n",
       "      <td>0.0</td>\n",
       "      <td>0.0</td>\n",
       "      <td>0.0</td>\n",
       "      <td>0.0</td>\n",
       "      <td>0.0</td>\n",
       "    </tr>\n",
       "    <tr>\n",
       "      <th>HIVEP1</th>\n",
       "      <td>0.0</td>\n",
       "      <td>0.0</td>\n",
       "      <td>0.0</td>\n",
       "      <td>0.0</td>\n",
       "      <td>0.0</td>\n",
       "      <td>0.0</td>\n",
       "      <td>0.0</td>\n",
       "      <td>0.0</td>\n",
       "      <td>0.0</td>\n",
       "      <td>0.0</td>\n",
       "      <td>...</td>\n",
       "      <td>0.0</td>\n",
       "      <td>0.0</td>\n",
       "      <td>0.0</td>\n",
       "      <td>0.0</td>\n",
       "      <td>0.0</td>\n",
       "      <td>0.0</td>\n",
       "      <td>0.0</td>\n",
       "      <td>0.0</td>\n",
       "      <td>0.0</td>\n",
       "      <td>0.0</td>\n",
       "    </tr>\n",
       "    <tr>\n",
       "      <th>SUOX</th>\n",
       "      <td>0.0</td>\n",
       "      <td>0.0</td>\n",
       "      <td>0.0</td>\n",
       "      <td>0.0</td>\n",
       "      <td>0.0</td>\n",
       "      <td>0.0</td>\n",
       "      <td>0.0</td>\n",
       "      <td>0.0</td>\n",
       "      <td>0.0</td>\n",
       "      <td>0.0</td>\n",
       "      <td>...</td>\n",
       "      <td>0.0</td>\n",
       "      <td>0.0</td>\n",
       "      <td>0.0</td>\n",
       "      <td>0.0</td>\n",
       "      <td>0.0</td>\n",
       "      <td>0.0</td>\n",
       "      <td>0.0</td>\n",
       "      <td>0.0</td>\n",
       "      <td>0.0</td>\n",
       "      <td>0.0</td>\n",
       "    </tr>\n",
       "    <tr>\n",
       "      <th>PSD2</th>\n",
       "      <td>0.0</td>\n",
       "      <td>0.0</td>\n",
       "      <td>0.0</td>\n",
       "      <td>0.0</td>\n",
       "      <td>0.0</td>\n",
       "      <td>0.0</td>\n",
       "      <td>0.0</td>\n",
       "      <td>0.0</td>\n",
       "      <td>0.0</td>\n",
       "      <td>0.0</td>\n",
       "      <td>...</td>\n",
       "      <td>0.0</td>\n",
       "      <td>0.0</td>\n",
       "      <td>0.0</td>\n",
       "      <td>0.0</td>\n",
       "      <td>0.0</td>\n",
       "      <td>0.0</td>\n",
       "      <td>0.0</td>\n",
       "      <td>0.0</td>\n",
       "      <td>0.0</td>\n",
       "      <td>0.0</td>\n",
       "    </tr>\n",
       "    <tr>\n",
       "      <th>ALX1</th>\n",
       "      <td>0.0</td>\n",
       "      <td>0.0</td>\n",
       "      <td>0.0</td>\n",
       "      <td>0.0</td>\n",
       "      <td>0.0</td>\n",
       "      <td>0.0</td>\n",
       "      <td>0.0</td>\n",
       "      <td>0.0</td>\n",
       "      <td>0.0</td>\n",
       "      <td>0.0</td>\n",
       "      <td>...</td>\n",
       "      <td>0.0</td>\n",
       "      <td>0.0</td>\n",
       "      <td>0.0</td>\n",
       "      <td>0.0</td>\n",
       "      <td>0.0</td>\n",
       "      <td>0.0</td>\n",
       "      <td>0.0</td>\n",
       "      <td>0.0</td>\n",
       "      <td>0.0</td>\n",
       "      <td>0.0</td>\n",
       "    </tr>\n",
       "  </tbody>\n",
       "</table>\n",
       "<p>5 rows × 362 columns</p>\n",
       "</div>"
      ],
      "text/plain": [
       "        RC3H2  HIVEP1  SUOX  PSD2  ALX1  CUX2  CNTN1  ZHX2  KIF1A  KANSL3  \\\n",
       "RC3H2     0.0     0.0   0.0   0.0   0.0   0.0    0.0   0.0    0.0     0.0   \n",
       "HIVEP1    0.0     0.0   0.0   0.0   0.0   0.0    0.0   0.0    0.0     0.0   \n",
       "SUOX      0.0     0.0   0.0   0.0   0.0   0.0    0.0   0.0    0.0     0.0   \n",
       "PSD2      0.0     0.0   0.0   0.0   0.0   0.0    0.0   0.0    0.0     0.0   \n",
       "ALX1      0.0     0.0   0.0   0.0   0.0   0.0    0.0   0.0    0.0     0.0   \n",
       "\n",
       "        ...  IGSF10  CADM1  KMT5B  TAF4  PADI6  POU3F1  KCNH5  ULK4  KCNB1  \\\n",
       "RC3H2   ...     0.0    0.0    1.0   0.0    0.0     0.0    0.0   0.0    0.0   \n",
       "HIVEP1  ...     0.0    0.0    0.0   0.0    0.0     0.0    0.0   0.0    0.0   \n",
       "SUOX    ...     0.0    0.0    0.0   0.0    0.0     0.0    0.0   0.0    0.0   \n",
       "PSD2    ...     0.0    0.0    0.0   0.0    0.0     0.0    0.0   0.0    0.0   \n",
       "ALX1    ...     0.0    0.0    0.0   0.0    0.0     0.0    0.0   0.0    0.0   \n",
       "\n",
       "        SEPSECS  \n",
       "RC3H2       0.0  \n",
       "HIVEP1      0.0  \n",
       "SUOX        0.0  \n",
       "PSD2        0.0  \n",
       "ALX1        0.0  \n",
       "\n",
       "[5 rows x 362 columns]"
      ]
     },
     "execution_count": 57,
     "metadata": {},
     "output_type": "execute_result"
    }
   ],
   "source": [
    "\n",
    "import umap\n",
    "# needs adjacency matrix\n",
    "adj_overlap = pd.DataFrame(nx.to_numpy_matrix(G_overlap))\n",
    "adj_overlap.index=list(G_overlap.nodes)\n",
    "adj_overlap.columns=list(G_overlap.nodes)\n",
    "adj_overlap.head()\n"
   ]
  },
  {
   "cell_type": "code",
   "execution_count": 58,
   "metadata": {},
   "outputs": [
    {
     "name": "stdout",
     "output_type": "stream",
     "text": [
      "CPU times: user 3.78 s, sys: 135 ms, total: 3.92 s\n",
      "Wall time: 3.58 s\n"
     ]
    }
   ],
   "source": [
    "fit=umap.UMAP()\n",
    "%time u=fit.fit_transform(adj_overlap)"
   ]
  },
  {
   "cell_type": "code",
   "execution_count": 62,
   "metadata": {},
   "outputs": [
    {
     "data": {
      "text/html": [
       "<div>\n",
       "<style scoped>\n",
       "    .dataframe tbody tr th:only-of-type {\n",
       "        vertical-align: middle;\n",
       "    }\n",
       "\n",
       "    .dataframe tbody tr th {\n",
       "        vertical-align: top;\n",
       "    }\n",
       "\n",
       "    .dataframe thead th {\n",
       "        text-align: right;\n",
       "    }\n",
       "</style>\n",
       "<table border=\"1\" class=\"dataframe\">\n",
       "  <thead>\n",
       "    <tr style=\"text-align: right;\">\n",
       "      <th></th>\n",
       "      <th>UMAP1</th>\n",
       "      <th>UMAP2</th>\n",
       "      <th>z_rare</th>\n",
       "      <th>z_common</th>\n",
       "      <th>z_product</th>\n",
       "    </tr>\n",
       "  </thead>\n",
       "  <tbody>\n",
       "    <tr>\n",
       "      <th>RC3H2</th>\n",
       "      <td>2.097821</td>\n",
       "      <td>-10.554556</td>\n",
       "      <td>2.129724</td>\n",
       "      <td>1.815776</td>\n",
       "      <td>3.867101</td>\n",
       "    </tr>\n",
       "    <tr>\n",
       "      <th>HIVEP1</th>\n",
       "      <td>-8.604897</td>\n",
       "      <td>-10.752854</td>\n",
       "      <td>2.618574</td>\n",
       "      <td>1.507529</td>\n",
       "      <td>3.947575</td>\n",
       "    </tr>\n",
       "    <tr>\n",
       "      <th>SUOX</th>\n",
       "      <td>0.620875</td>\n",
       "      <td>-9.849983</td>\n",
       "      <td>1.526079</td>\n",
       "      <td>3.943416</td>\n",
       "      <td>6.017962</td>\n",
       "    </tr>\n",
       "    <tr>\n",
       "      <th>PSD2</th>\n",
       "      <td>-1.528494</td>\n",
       "      <td>-9.776551</td>\n",
       "      <td>3.093150</td>\n",
       "      <td>1.547941</td>\n",
       "      <td>4.788014</td>\n",
       "    </tr>\n",
       "    <tr>\n",
       "      <th>ALX1</th>\n",
       "      <td>1.128122</td>\n",
       "      <td>-10.189544</td>\n",
       "      <td>2.265616</td>\n",
       "      <td>2.255008</td>\n",
       "      <td>5.108982</td>\n",
       "    </tr>\n",
       "  </tbody>\n",
       "</table>\n",
       "</div>"
      ],
      "text/plain": [
       "           UMAP1      UMAP2    z_rare  z_common  z_product\n",
       "RC3H2   2.097821 -10.554556  2.129724  1.815776   3.867101\n",
       "HIVEP1 -8.604897 -10.752854  2.618574  1.507529   3.947575\n",
       "SUOX    0.620875  -9.849983  1.526079  3.943416   6.017962\n",
       "PSD2   -1.528494  -9.776551  3.093150  1.547941   4.788014\n",
       "ALX1    1.128122 -10.189544  2.265616  2.255008   5.108982"
      ]
     },
     "execution_count": 62,
     "metadata": {},
     "output_type": "execute_result"
    }
   ],
   "source": [
    "u_df=pd.DataFrame(u)\n",
    "u_df.index=adj_overlap.index.tolist()\n",
    "u_df.columns=['UMAP1','UMAP2']\n",
    "\n",
    "u_df = u_df.join(z_rare,how='left')\n",
    "u_df = u_df.join(z_common,how='left',lsuffix='_rare',rsuffix='_common')\n",
    "u_df['z_product']=u_df['z_rare']*u_df['z_common']\n",
    "\n",
    "u_df.head()"
   ]
  },
  {
   "cell_type": "code",
   "execution_count": 63,
   "metadata": {},
   "outputs": [
    {
     "data": {
      "text/plain": [
       "<matplotlib.legend.Legend at 0x7f961795da10>"
      ]
     },
     "execution_count": 63,
     "metadata": {},
     "output_type": "execute_result"
    },
    {
     "data": {
      "image/png": "[encoded data removed]",
      "text/plain": [
       "<Figure size 360x360 with 1 Axes>"
      ]
     },
     "metadata": {},
     "output_type": "display_data"
    }
   ],
   "source": [
    "plt.figure(figsize=(5,5))\n",
    "ASD_rare_genes_in_overlap= list(np.intersect1d(ASD_rare_genes,overlap_genes))\n",
    "ASD_common_genes_in_overlap= list(np.intersect1d(ASD_common_genes,overlap_genes))\n",
    "plt.scatter(u_df['UMAP1'],u_df['UMAP2'],alpha=0.4,s=8,color='#8FCCE1',label='ASD rare-common network intersection gene')\n",
    "plt.scatter(u_df['UMAP1'].loc[ASD_rare_genes_in_overlap],u_df['UMAP2'].loc[ASD_rare_genes_in_overlap],\n",
    "            alpha=.8,s=8,color='#F51AC6',label='ASD rare seed gene')\n",
    "plt.scatter(u_df['UMAP1'].loc[ASD_common_genes_in_overlap],u_df['UMAP2'].loc[ASD_common_genes_in_overlap],\n",
    "            alpha=.8,s=8,color='black',label='ASD common gene')\n",
    "plt.xlabel('UMAP-1')\n",
    "plt.ylabel('UMAP-2')\n",
    "plt.legend(bbox_to_anchor=(1.1, 1.05))"
   ]
  },
  {
   "cell_type": "markdown",
   "metadata": {},
   "source": [
    "## Output network overlap to cytoscape for clustering/annotation\n",
    "\n",
    "Note: I'm sure there is a better way to interface with cytoscape/ CDAPS. Please help!"
   ]
  },
  {
   "cell_type": "code",
   "execution_count": 44,
   "metadata": {},
   "outputs": [
    {
     "name": "stdout",
     "output_type": "stream",
     "text": [
      "362\n",
      "362\n",
      "3755\n"
     ]
    }
   ],
   "source": [
    "# select genes in network intersection, make a subgraph\n",
    "d1='ASD_rare'\n",
    "d2='ASD_common'\n",
    "z1=z_dict[d1]\n",
    "z2=z_dict[d2]\n",
    "\n",
    "d1_seeds_in_network = list(np.intersect1d(seed_dict[d1],G_PC.nodes()))\n",
    "d2_seeds_in_network = list(np.intersect1d(seed_dict[d2],G_PC.nodes()))\n",
    "overlap_genes = calculate_network_overlap(z1,z2,zthresh=3)\n",
    "print(len(overlap_genes))\n",
    "\n",
    "G_overlap = nx.subgraph(G_PC,overlap_genes)\n",
    "print(len(G_overlap.nodes()))\n",
    "print(len(G_overlap.edges()))"
   ]
  },
  {
   "cell_type": "code",
   "execution_count": 52,
   "metadata": {},
   "outputs": [
    {
     "data": {
      "text/html": [
       "<div>\n",
       "<style scoped>\n",
       "    .dataframe tbody tr th:only-of-type {\n",
       "        vertical-align: middle;\n",
       "    }\n",
       "\n",
       "    .dataframe tbody tr th {\n",
       "        vertical-align: top;\n",
       "    }\n",
       "\n",
       "    .dataframe thead th {\n",
       "        text-align: right;\n",
       "    }\n",
       "</style>\n",
       "<table border=\"1\" class=\"dataframe\">\n",
       "  <thead>\n",
       "    <tr style=\"text-align: right;\">\n",
       "      <th></th>\n",
       "      <th>ASD_rare_seeds</th>\n",
       "      <th>ASD_common_seeds</th>\n",
       "      <th>z_ASD_rare</th>\n",
       "      <th>z_ASD_common</th>\n",
       "      <th>z_both</th>\n",
       "    </tr>\n",
       "  </thead>\n",
       "  <tbody>\n",
       "    <tr>\n",
       "      <th>SOX7</th>\n",
       "      <td>0</td>\n",
       "      <td>1</td>\n",
       "      <td>3.290276</td>\n",
       "      <td>23.579128</td>\n",
       "      <td>77.581833</td>\n",
       "    </tr>\n",
       "    <tr>\n",
       "      <th>ADNP</th>\n",
       "      <td>1</td>\n",
       "      <td>0</td>\n",
       "      <td>19.776082</td>\n",
       "      <td>3.876053</td>\n",
       "      <td>76.653149</td>\n",
       "    </tr>\n",
       "    <tr>\n",
       "      <th>DPYSL2</th>\n",
       "      <td>1</td>\n",
       "      <td>0</td>\n",
       "      <td>17.211062</td>\n",
       "      <td>3.136356</td>\n",
       "      <td>53.980016</td>\n",
       "    </tr>\n",
       "    <tr>\n",
       "      <th>IRF2BPL</th>\n",
       "      <td>1</td>\n",
       "      <td>0</td>\n",
       "      <td>11.332513</td>\n",
       "      <td>3.733174</td>\n",
       "      <td>42.306244</td>\n",
       "    </tr>\n",
       "    <tr>\n",
       "      <th>ARID1B</th>\n",
       "      <td>1</td>\n",
       "      <td>0</td>\n",
       "      <td>13.311199</td>\n",
       "      <td>3.141033</td>\n",
       "      <td>41.810919</td>\n",
       "    </tr>\n",
       "  </tbody>\n",
       "</table>\n",
       "</div>"
      ],
      "text/plain": [
       "         ASD_rare_seeds  ASD_common_seeds  z_ASD_rare  z_ASD_common     z_both\n",
       "SOX7                  0                 1    3.290276     23.579128  77.581833\n",
       "ADNP                  1                 0   19.776082      3.876053  76.653149\n",
       "DPYSL2                1                 0   17.211062      3.136356  53.980016\n",
       "IRF2BPL               1                 0   11.332513      3.733174  42.306244\n",
       "ARID1B                1                 0   13.311199      3.141033  41.810919"
      ]
     },
     "execution_count": 52,
     "metadata": {},
     "output_type": "execute_result"
    }
   ],
   "source": [
    "# write out nodelist for overlap\n",
    "node_df = pd.DataFrame(index=G_overlap.nodes())\n",
    "node_df[d1+'_seeds']=0\n",
    "node_df[d2+'_seeds']=0\n",
    "node_df[d1+'_seeds'].loc[list(np.intersect1d(d1_seeds_in_network,node_df.index.tolist()))]=1\n",
    "node_df[d2+'_seeds'].loc[list(np.intersect1d(d2_seeds_in_network,node_df.index.tolist()))]=1\n",
    "node_df['z_'+d1]=z1.loc[overlap_genes]['z']\n",
    "node_df['z_'+d2]=z2.loc[overlap_genes]['z']\n",
    "node_df['z_both']=node_df['z_'+d1]*node_df['z_'+d2]\n",
    "\n",
    "# node_df.to_csv('ASD_rare_common_z3_nodes.tsv',sep='\\t')\n",
    "node_df = node_df.sort_values('z_both',ascending=False)\n",
    "node_df.head()\n"
   ]
  },
  {
   "cell_type": "code",
   "execution_count": 54,
   "metadata": {},
   "outputs": [
    {
     "name": "stdout",
     "output_type": "stream",
     "text": [
      "4117\n"
     ]
    }
   ],
   "source": [
    "# write out nodelists and edgelists for overlap\n",
    "z3_e1,z3_e2 = zip(*list(G_overlap.edges))\n",
    "edgelist_df = pd.DataFrame()\n",
    "# add self edges so we don't lose nodes on import\n",
    "edgelist_df['node1']=list(z3_e1)+list(G_overlap.nodes)\n",
    "edgelist_df['node2']=list(z3_e2)+list(G_overlap.nodes)\n",
    "# edgelist_df.to_csv('ASD_rare_common_z3_edges.tsv',sep='\\t')\n",
    "print(len(edgelist_df))"
   ]
  },
  {
   "cell_type": "markdown",
   "metadata": {},
   "source": [
    "# 4. Build multiscale systems map\n",
    "\n",
    "Does this happen in cytoscape, or here?"
   ]
  },
  {
   "cell_type": "code",
   "execution_count": null,
   "metadata": {},
   "outputs": [],
   "source": []
  }
 ],
 "metadata": {
  "kernelspec": {
   "display_name": "Python 3",
   "language": "python",
   "name": "python3"
  },
  "language_info": {
   "codemirror_mode": {
    "name": "ipython",
    "version": 3
   },
   "file_extension": ".py",
   "mimetype": "text/x-python",
   "name": "python",
   "nbconvert_exporter": "python",
   "pygments_lexer": "ipython3",
   "version": "3.7.4"
  }
 },
 "nbformat": 4,
 "nbformat_minor": 4
}

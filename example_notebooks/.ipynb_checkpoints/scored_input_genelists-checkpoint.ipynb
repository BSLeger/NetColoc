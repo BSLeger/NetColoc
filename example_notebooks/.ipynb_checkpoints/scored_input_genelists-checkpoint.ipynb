{
 "cells": [
  {
   "cell_type": "markdown",
   "metadata": {},
   "source": [
    "# An example notebook to evaluate NetColoc scores for a range of thresholds on scored input gene lists"
   ]
  },
  {
   "cell_type": "markdown",
   "metadata": {},
   "source": [
    "# _Obtain input gene sets and interactome_"
   ]
  },
  {
   "cell_type": "code",
   "execution_count": 1,
   "metadata": {},
   "outputs": [
    {
     "name": "stderr",
     "output_type": "stream",
     "text": [
      "DISCLAIMIER: cdapsutil is experimental and may contain errors and interfaces may change\n"
     ]
    }
   ],
   "source": [
    "# load required packages\n",
    "\n",
    "import numpy as np\n",
    "import matplotlib.pyplot as plt\n",
    "import seaborn as sns\n",
    "import networkx as nx\n",
    "import pandas as pd\n",
    "import re\n",
    "import random\n",
    "\n",
    "from IPython.display import display\n",
    "\n",
    "import getpass\n",
    "import ndex2\n",
    "\n",
    "import json\n",
    "import cdapsutil\n",
    "\n",
    "from gprofiler import GProfiler\n",
    "gp = GProfiler(\"MyToolName/0.1\")\n",
    "\n",
    "from scipy.stats import hypergeom\n",
    "from scipy.stats import norm\n",
    "\n",
    "# latex rendering of text in graphs\n",
    "import matplotlib as mpl\n",
    "mpl.rc('text', usetex = False)\n",
    "mpl.rc('font', family = 'serif')\n",
    "\n",
    "from matplotlib import rcParams\n",
    "rcParams['font.family'] = 'sans-serif'\n",
    "rcParams['font.sans-serif'] = ['Arial']\n",
    "\n",
    "sns.set(font_scale=1.4)\n",
    "\n",
    "sns.set_style('white')\n",
    "\n",
    "sns.set_style(\"ticks\", {\"xtick.major.size\": 15, \"ytick.major.size\": 15})\n",
    "plt.rcParams['svg.fonttype'] = 'none'\n",
    "\n",
    "from datetime import datetime\n",
    "import sys\n",
    "%matplotlib inline"
   ]
  },
  {
   "cell_type": "code",
   "execution_count": 2,
   "metadata": {},
   "outputs": [],
   "source": [
    "\n",
    "# verify DDOT was installed\n",
    "import ddot\n",
    "\n",
    "# from netcoloc import netprop_zscore\n",
    "# from netcoloc import netprop\n",
    "# from netcoloc import network_colocalization\n",
    "# from netcoloc import validation\n",
    "\n",
    "import sys\n",
    "sys.path.append('../netcoloc/')\n",
    "import netprop_zscore\n",
    "import netprop\n",
    "import network_colocalization\n",
    "import validation\n"
   ]
  },
  {
   "cell_type": "code",
   "execution_count": 55,
   "metadata": {},
   "outputs": [
    {
     "data": {
      "text/plain": [
       "<module 'netprop_zscore' from '../netcoloc/netprop_zscore.py'>"
      ]
     },
     "execution_count": 55,
     "metadata": {},
     "output_type": "execute_result"
    }
   ],
   "source": [
    "import imp\n",
    "imp.reload(network_colocalization)\n",
    "imp.reload(netprop_zscore)"
   ]
  },
  {
   "cell_type": "code",
   "execution_count": null,
   "metadata": {},
   "outputs": [],
   "source": []
  },
  {
   "cell_type": "markdown",
   "metadata": {},
   "source": [
    "# Load molecular interaction network"
   ]
  },
  {
   "cell_type": "code",
   "execution_count": 8,
   "metadata": {},
   "outputs": [
    {
     "name": "stdout",
     "output_type": "stream",
     "text": [
      "number of nodes:\n",
      "17185\n",
      "\n",
      "number of edges:\n",
      "420534\n"
     ]
    }
   ],
   "source": [
    "# interactome_uuid='4de852d9-9908-11e9-bcaf-0ac135e8bacf' # for PCNet\n",
    "interactome_uuid='275bd84e-3d18-11e8-a935-0ac135e8bacf' # for STRING high confidence\n",
    "ndex_server='public.ndexbio.org'\n",
    "ndex_user=None\n",
    "ndex_password=None\n",
    "G_int = ndex2.create_nice_cx_from_server(\n",
    "            ndex_server, \n",
    "            username=ndex_user, \n",
    "            password=ndex_password, \n",
    "            uuid=interactome_uuid\n",
    "        ).to_networkx()\n",
    "nodes = list(G_int.nodes)\n",
    "\n",
    "# remove self edges from network\n",
    "G_int.remove_edges_from(nx.selfloop_edges(G_int))\n",
    "\n",
    "# print out the numbers of nodes and edges in the interatome for diagnostic purposes:\n",
    "print('number of nodes:')\n",
    "print(len(G_int.nodes))\n",
    "print('\\nnumber of edges:')\n",
    "print(len(G_int.edges))"
   ]
  },
  {
   "cell_type": "code",
   "execution_count": 10,
   "metadata": {},
   "outputs": [],
   "source": [
    "int_nodes = list(G_int.nodes)"
   ]
  },
  {
   "cell_type": "code",
   "execution_count": 11,
   "metadata": {},
   "outputs": [
    {
     "name": "stdout",
     "output_type": "stream",
     "text": [
      "\n",
      "calculating w_prime\n",
      "\n",
      "calculating w_double_prime\n"
     ]
    }
   ],
   "source": [
    "# pre-calculate matrices used for network propagation. this step takes a few minutes, more for denser interactomes\n",
    "print('\\ncalculating w_prime')\n",
    "w_prime = netprop.get_normalized_adjacency_matrix(G_int, conserve_heat=True)\n",
    "\n",
    "print('\\ncalculating w_double_prime')\n",
    "w_double_prime = netprop.get_individual_heats_matrix(w_prime, .5)"
   ]
  },
  {
   "cell_type": "code",
   "execution_count": null,
   "metadata": {},
   "outputs": [],
   "source": []
  },
  {
   "cell_type": "markdown",
   "metadata": {},
   "source": [
    "# Select two gene sets of interest. Load gene sets from text files into python\n",
    "\n",
    "Here we select two public differential expression results (https://www.ncbi.nlm.nih.gov/pmc/articles/PMC6124454/). \n",
    "\n",
    "These data identify genes which distinguish steatosis-independent and steatosis-driven advanced fibrosis. Here we select steatosis-independent advanced vs early fibrosis and steatosis-driven advanced vs early fibrosis as our input gene lists.\n",
    "\n",
    "Data downloaded from https://www.ebi.ac.uk/gxa/experiments/E-MTAB-6863/Downloads"
   ]
  },
  {
   "cell_type": "code",
   "execution_count": 4,
   "metadata": {},
   "outputs": [
    {
     "name": "stdout",
     "output_type": "stream",
     "text": [
      "25305\n"
     ]
    },
    {
     "data": {
      "text/html": [
       "<div>\n",
       "<style scoped>\n",
       "    .dataframe tbody tr th:only-of-type {\n",
       "        vertical-align: middle;\n",
       "    }\n",
       "\n",
       "    .dataframe tbody tr th {\n",
       "        vertical-align: top;\n",
       "    }\n",
       "\n",
       "    .dataframe thead th {\n",
       "        text-align: right;\n",
       "    }\n",
       "</style>\n",
       "<table border=\"1\" class=\"dataframe\">\n",
       "  <thead>\n",
       "    <tr style=\"text-align: right;\">\n",
       "      <th></th>\n",
       "      <th>Gene ID</th>\n",
       "      <th>Gene Name</th>\n",
       "      <th>'advanced' vs 'early' in 'no steatosis; liver disease; Hepatitis C virus genotype 1' .foldChange</th>\n",
       "      <th>'advanced' vs 'early' in 'no steatosis; liver disease; Hepatitis C virus genotype 1'.pValue</th>\n",
       "      <th>'advanced' vs 'early' in 'no steatosis; liver disease; Hepatitis C virus genotype 3' .foldChange</th>\n",
       "      <th>'advanced' vs 'early' in 'no steatosis; liver disease; Hepatitis C virus genotype 3'.pValue</th>\n",
       "      <th>'advanced' vs 'early' in 'steatosis; liver disease; Hepatitis C virus genotype 1' .foldChange</th>\n",
       "      <th>'advanced' vs 'early' in 'steatosis; liver disease; Hepatitis C virus genotype 1'.pValue</th>\n",
       "      <th>'advanced' vs 'early' in 'steatosis; liver disease; Hepatitis C virus genotype 3' .foldChange</th>\n",
       "      <th>'advanced' vs 'early' in 'steatosis; liver disease; Hepatitis C virus genotype 3'.pValue</th>\n",
       "      <th>'advanced' vs 'early' in 'steatosis; non-alcoholic fatty liver disease; not applicable' .foldChange</th>\n",
       "      <th>'advanced' vs 'early' in 'steatosis; non-alcoholic fatty liver disease; not applicable'.pValue</th>\n",
       "    </tr>\n",
       "  </thead>\n",
       "  <tbody>\n",
       "    <tr>\n",
       "      <th>0</th>\n",
       "      <td>ENSG00000000003</td>\n",
       "      <td>TSPAN6</td>\n",
       "      <td>NaN</td>\n",
       "      <td>NaN</td>\n",
       "      <td>-0.4</td>\n",
       "      <td>0.281913</td>\n",
       "      <td>-0.3</td>\n",
       "      <td>0.877886</td>\n",
       "      <td>-0.3</td>\n",
       "      <td>0.829151</td>\n",
       "      <td>0.2</td>\n",
       "      <td>0.769741</td>\n",
       "    </tr>\n",
       "    <tr>\n",
       "      <th>1</th>\n",
       "      <td>ENSG00000000005</td>\n",
       "      <td>TNMD</td>\n",
       "      <td>NaN</td>\n",
       "      <td>NaN</td>\n",
       "      <td>NaN</td>\n",
       "      <td>NaN</td>\n",
       "      <td>0.1</td>\n",
       "      <td>0.985520</td>\n",
       "      <td>NaN</td>\n",
       "      <td>NaN</td>\n",
       "      <td>NaN</td>\n",
       "      <td>NaN</td>\n",
       "    </tr>\n",
       "    <tr>\n",
       "      <th>2</th>\n",
       "      <td>ENSG00000000419</td>\n",
       "      <td>DPM1</td>\n",
       "      <td>NaN</td>\n",
       "      <td>NaN</td>\n",
       "      <td>-0.3</td>\n",
       "      <td>0.499480</td>\n",
       "      <td>-0.1</td>\n",
       "      <td>0.946040</td>\n",
       "      <td>-0.1</td>\n",
       "      <td>0.938291</td>\n",
       "      <td>0.5</td>\n",
       "      <td>0.304146</td>\n",
       "    </tr>\n",
       "    <tr>\n",
       "      <th>3</th>\n",
       "      <td>ENSG00000000457</td>\n",
       "      <td>SCYL3</td>\n",
       "      <td>NaN</td>\n",
       "      <td>NaN</td>\n",
       "      <td>NaN</td>\n",
       "      <td>NaN</td>\n",
       "      <td>NaN</td>\n",
       "      <td>NaN</td>\n",
       "      <td>NaN</td>\n",
       "      <td>NaN</td>\n",
       "      <td>0.1</td>\n",
       "      <td>0.825765</td>\n",
       "    </tr>\n",
       "    <tr>\n",
       "      <th>4</th>\n",
       "      <td>ENSG00000000460</td>\n",
       "      <td>C1orf112</td>\n",
       "      <td>NaN</td>\n",
       "      <td>NaN</td>\n",
       "      <td>0.6</td>\n",
       "      <td>0.309036</td>\n",
       "      <td>NaN</td>\n",
       "      <td>NaN</td>\n",
       "      <td>-0.3</td>\n",
       "      <td>0.833355</td>\n",
       "      <td>0.1</td>\n",
       "      <td>0.927387</td>\n",
       "    </tr>\n",
       "  </tbody>\n",
       "</table>\n",
       "</div>"
      ],
      "text/plain": [
       "           Gene ID Gene Name  \\\n",
       "0  ENSG00000000003    TSPAN6   \n",
       "1  ENSG00000000005      TNMD   \n",
       "2  ENSG00000000419      DPM1   \n",
       "3  ENSG00000000457     SCYL3   \n",
       "4  ENSG00000000460  C1orf112   \n",
       "\n",
       "   'advanced' vs 'early' in 'no steatosis; liver disease; Hepatitis C virus genotype 1' .foldChange  \\\n",
       "0                                                NaN                                                  \n",
       "1                                                NaN                                                  \n",
       "2                                                NaN                                                  \n",
       "3                                                NaN                                                  \n",
       "4                                                NaN                                                  \n",
       "\n",
       "   'advanced' vs 'early' in 'no steatosis; liver disease; Hepatitis C virus genotype 1'.pValue  \\\n",
       "0                                                NaN                                             \n",
       "1                                                NaN                                             \n",
       "2                                                NaN                                             \n",
       "3                                                NaN                                             \n",
       "4                                                NaN                                             \n",
       "\n",
       "   'advanced' vs 'early' in 'no steatosis; liver disease; Hepatitis C virus genotype 3' .foldChange  \\\n",
       "0                                               -0.4                                                  \n",
       "1                                                NaN                                                  \n",
       "2                                               -0.3                                                  \n",
       "3                                                NaN                                                  \n",
       "4                                                0.6                                                  \n",
       "\n",
       "   'advanced' vs 'early' in 'no steatosis; liver disease; Hepatitis C virus genotype 3'.pValue  \\\n",
       "0                                           0.281913                                             \n",
       "1                                                NaN                                             \n",
       "2                                           0.499480                                             \n",
       "3                                                NaN                                             \n",
       "4                                           0.309036                                             \n",
       "\n",
       "   'advanced' vs 'early' in 'steatosis; liver disease; Hepatitis C virus genotype 1' .foldChange  \\\n",
       "0                                               -0.3                                               \n",
       "1                                                0.1                                               \n",
       "2                                               -0.1                                               \n",
       "3                                                NaN                                               \n",
       "4                                                NaN                                               \n",
       "\n",
       "   'advanced' vs 'early' in 'steatosis; liver disease; Hepatitis C virus genotype 1'.pValue  \\\n",
       "0                                           0.877886                                          \n",
       "1                                           0.985520                                          \n",
       "2                                           0.946040                                          \n",
       "3                                                NaN                                          \n",
       "4                                                NaN                                          \n",
       "\n",
       "   'advanced' vs 'early' in 'steatosis; liver disease; Hepatitis C virus genotype 3' .foldChange  \\\n",
       "0                                               -0.3                                               \n",
       "1                                                NaN                                               \n",
       "2                                               -0.1                                               \n",
       "3                                                NaN                                               \n",
       "4                                               -0.3                                               \n",
       "\n",
       "   'advanced' vs 'early' in 'steatosis; liver disease; Hepatitis C virus genotype 3'.pValue  \\\n",
       "0                                           0.829151                                          \n",
       "1                                                NaN                                          \n",
       "2                                           0.938291                                          \n",
       "3                                                NaN                                          \n",
       "4                                           0.833355                                          \n",
       "\n",
       "   'advanced' vs 'early' in 'steatosis; non-alcoholic fatty liver disease; not applicable' .foldChange  \\\n",
       "0                                                0.2                                                     \n",
       "1                                                NaN                                                     \n",
       "2                                                0.5                                                     \n",
       "3                                                0.1                                                     \n",
       "4                                                0.1                                                     \n",
       "\n",
       "   'advanced' vs 'early' in 'steatosis; non-alcoholic fatty liver disease; not applicable'.pValue  \n",
       "0                                           0.769741                                               \n",
       "1                                                NaN                                               \n",
       "2                                           0.304146                                               \n",
       "3                                           0.825765                                               \n",
       "4                                           0.927387                                               "
      ]
     },
     "execution_count": 4,
     "metadata": {},
     "output_type": "execute_result"
    }
   ],
   "source": [
    "DE_df = pd.read_csv('data/E-MTAB-6863-query-results.tsv',\n",
    "                   sep='\\t',skiprows=3)\n",
    "print(len(DE_df))\n",
    "DE_df.head()"
   ]
  },
  {
   "cell_type": "code",
   "execution_count": 5,
   "metadata": {},
   "outputs": [
    {
     "name": "stdout",
     "output_type": "stream",
     "text": [
      "297\n",
      "225\n"
     ]
    },
    {
     "name": "stderr",
     "output_type": "stream",
     "text": [
      "/Users/brinrosenthal/anaconda3/lib/python3.7/site-packages/ipykernel_launcher.py:5: SettingWithCopyWarning: \n",
      "A value is trying to be set on a copy of a slice from a DataFrame.\n",
      "Try using .loc[row_indexer,col_indexer] = value instead\n",
      "\n",
      "See the caveats in the documentation: https://pandas.pydata.org/pandas-docs/stable/user_guide/indexing.html#returning-a-view-versus-a-copy\n",
      "  \"\"\"\n",
      "/Users/brinrosenthal/anaconda3/lib/python3.7/site-packages/ipykernel_launcher.py:14: SettingWithCopyWarning: \n",
      "A value is trying to be set on a copy of a slice from a DataFrame.\n",
      "Try using .loc[row_indexer,col_indexer] = value instead\n",
      "\n",
      "See the caveats in the documentation: https://pandas.pydata.org/pandas-docs/stable/user_guide/indexing.html#returning-a-view-versus-a-copy\n",
      "  \n"
     ]
    },
    {
     "data": {
      "text/html": [
       "<div>\n",
       "<style scoped>\n",
       "    .dataframe tbody tr th:only-of-type {\n",
       "        vertical-align: middle;\n",
       "    }\n",
       "\n",
       "    .dataframe tbody tr th {\n",
       "        vertical-align: top;\n",
       "    }\n",
       "\n",
       "    .dataframe thead th {\n",
       "        text-align: right;\n",
       "    }\n",
       "</style>\n",
       "<table border=\"1\" class=\"dataframe\">\n",
       "  <thead>\n",
       "    <tr style=\"text-align: right;\">\n",
       "      <th></th>\n",
       "      <th>Gene Name</th>\n",
       "      <th>pvalue</th>\n",
       "      <th>foldchange</th>\n",
       "      <th>abs_foldchange</th>\n",
       "    </tr>\n",
       "  </thead>\n",
       "  <tbody>\n",
       "    <tr>\n",
       "      <th>151</th>\n",
       "      <td>PROM1</td>\n",
       "      <td>0.000886</td>\n",
       "      <td>1.2</td>\n",
       "      <td>1.2</td>\n",
       "    </tr>\n",
       "    <tr>\n",
       "      <th>237</th>\n",
       "      <td>STAB1</td>\n",
       "      <td>0.044347</td>\n",
       "      <td>-1.1</td>\n",
       "      <td>1.1</td>\n",
       "    </tr>\n",
       "    <tr>\n",
       "      <th>382</th>\n",
       "      <td>SLC45A4</td>\n",
       "      <td>0.040160</td>\n",
       "      <td>1.0</td>\n",
       "      <td>1.0</td>\n",
       "    </tr>\n",
       "    <tr>\n",
       "      <th>392</th>\n",
       "      <td>BIRC3</td>\n",
       "      <td>0.049737</td>\n",
       "      <td>1.3</td>\n",
       "      <td>1.3</td>\n",
       "    </tr>\n",
       "    <tr>\n",
       "      <th>477</th>\n",
       "      <td>SH3YL1</td>\n",
       "      <td>0.031607</td>\n",
       "      <td>1.2</td>\n",
       "      <td>1.2</td>\n",
       "    </tr>\n",
       "  </tbody>\n",
       "</table>\n",
       "</div>"
      ],
      "text/plain": [
       "    Gene Name    pvalue  foldchange  abs_foldchange\n",
       "151     PROM1  0.000886         1.2             1.2\n",
       "237     STAB1  0.044347        -1.1             1.1\n",
       "382   SLC45A4  0.040160         1.0             1.0\n",
       "392     BIRC3  0.049737         1.3             1.3\n",
       "477    SH3YL1  0.031607         1.2             1.2"
      ]
     },
     "execution_count": 5,
     "metadata": {},
     "output_type": "execute_result"
    }
   ],
   "source": [
    "# define the first gene set data frame:\n",
    "D1_df = DE_df[['Gene Name',\"'advanced' vs 'early' in 'steatosis; liver disease; Hepatitis C virus genotype 3'.pValue\",\n",
    "              \"'advanced' vs 'early' in 'steatosis; liver disease; Hepatitis C virus genotype 3' .foldChange\"]]\n",
    "D1_df.columns=['Gene Name','pvalue','foldchange']\n",
    "D1_df['abs_foldchange']=D1_df['foldchange'].abs()\n",
    "D1_df = D1_df[D1_df['pvalue']<0.05] # select genes which are nominally significant\n",
    "print(len(D1_df))\n",
    "D1_df.head()\n",
    "\n",
    "# define the second gene set data frame:\n",
    "D2_df = DE_df[['Gene Name',\"'advanced' vs 'early' in 'no steatosis; liver disease; Hepatitis C virus genotype 3'.pValue\",\n",
    "              \"'advanced' vs 'early' in 'no steatosis; liver disease; Hepatitis C virus genotype 3' .foldChange\"]]\n",
    "D2_df.columns=['Gene Name','pvalue','foldchange']\n",
    "D2_df['abs_foldchange']=D2_df['foldchange'].abs()\n",
    "D2_df = D2_df[D2_df['pvalue']<0.05] # select genes which are nominally significant\n",
    "print(len(D2_df))\n",
    "D2_df.head()"
   ]
  },
  {
   "cell_type": "code",
   "execution_count": null,
   "metadata": {},
   "outputs": [],
   "source": []
  },
  {
   "cell_type": "code",
   "execution_count": 32,
   "metadata": {
    "scrolled": true
   },
   "outputs": [
    {
     "name": "stdout",
     "output_type": "stream",
     "text": [
      "\n",
      "Calculating D1 variant z-scores: \n"
     ]
    },
    {
     "data": {
      "application/vnd.jupyter.widget-view+json": {
       "model_id": "1dc7a39702fd4c90a8ef2e6cdece23e1",
       "version_major": 2,
       "version_minor": 0
      },
      "text/plain": [
       "HBox(children=(FloatProgress(value=0.0), HTML(value='')))"
      ]
     },
     "metadata": {},
     "output_type": "display_data"
    },
    {
     "name": "stdout",
     "output_type": "stream",
     "text": [
      "\n",
      "\n",
      "Calculating D2 variant z-scores: \n"
     ]
    },
    {
     "data": {
      "application/vnd.jupyter.widget-view+json": {
       "model_id": "a3fb4cf4162c4162a10584c265838358",
       "version_major": 2,
       "version_minor": 0
      },
      "text/plain": [
       "HBox(children=(FloatProgress(value=0.0), HTML(value='')))"
      ]
     },
     "metadata": {},
     "output_type": "display_data"
    },
    {
     "name": "stdout",
     "output_type": "stream",
     "text": [
      "\n",
      "\n",
      "cutoff = 0.5\n",
      "number of D1 genes = 199\n",
      "number of D2 genes = 130\n",
      "number of shared genes = 29\n",
      "size of network intersection = 422\n",
      "observed size/ expected size = 2.9699486241114785\n",
      "p = 3.0048959831448235e-179\n",
      "\n",
      "Calculating D1 variant z-scores: \n"
     ]
    },
    {
     "data": {
      "application/vnd.jupyter.widget-view+json": {
       "model_id": "a920767f746b4ff49815ceac52892c1e",
       "version_major": 2,
       "version_minor": 0
      },
      "text/plain": [
       "HBox(children=(FloatProgress(value=0.0), HTML(value='')))"
      ]
     },
     "metadata": {},
     "output_type": "display_data"
    },
    {
     "name": "stdout",
     "output_type": "stream",
     "text": [
      "\n",
      "\n",
      "Calculating D2 variant z-scores: \n"
     ]
    },
    {
     "data": {
      "application/vnd.jupyter.widget-view+json": {
       "model_id": "ec18ce1faa29440ab123108409f73d58",
       "version_major": 2,
       "version_minor": 0
      },
      "text/plain": [
       "HBox(children=(FloatProgress(value=0.0), HTML(value='')))"
      ]
     },
     "metadata": {},
     "output_type": "display_data"
    },
    {
     "name": "stdout",
     "output_type": "stream",
     "text": [
      "\n",
      "\n",
      "cutoff = 0.7\n",
      "number of D1 genes = 191\n",
      "number of D2 genes = 128\n",
      "number of shared genes = 29\n",
      "size of network intersection = 412\n",
      "observed size/ expected size = 2.9240596167494677\n",
      "p = 1.0876242498448073e-161\n",
      "\n",
      "Calculating D1 variant z-scores: \n"
     ]
    },
    {
     "data": {
      "application/vnd.jupyter.widget-view+json": {
       "model_id": "47da9bcc77324044a8cc770d0ebe3552",
       "version_major": 2,
       "version_minor": 0
      },
      "text/plain": [
       "HBox(children=(FloatProgress(value=0.0), HTML(value='')))"
      ]
     },
     "metadata": {},
     "output_type": "display_data"
    },
    {
     "name": "stdout",
     "output_type": "stream",
     "text": [
      "\n",
      "\n",
      "Calculating D2 variant z-scores: \n"
     ]
    },
    {
     "data": {
      "application/vnd.jupyter.widget-view+json": {
       "model_id": "239e03cbdd544d9093c8fb8c60446e68",
       "version_major": 2,
       "version_minor": 0
      },
      "text/plain": [
       "HBox(children=(FloatProgress(value=0.0), HTML(value='')))"
      ]
     },
     "metadata": {},
     "output_type": "display_data"
    },
    {
     "name": "stdout",
     "output_type": "stream",
     "text": [
      "\n",
      "\n",
      "cutoff = 0.8999999999999999\n",
      "number of D1 genes = 183\n",
      "number of D2 genes = 124\n",
      "number of shared genes = 29\n",
      "size of network intersection = 427\n",
      "observed size/ expected size = 3.139475038600103\n",
      "p = 3.1897821659657524e-183\n",
      "\n",
      "Calculating D1 variant z-scores: \n"
     ]
    },
    {
     "data": {
      "application/vnd.jupyter.widget-view+json": {
       "model_id": "77c8a9d00156457e9e63a910cfa0ae39",
       "version_major": 2,
       "version_minor": 0
      },
      "text/plain": [
       "HBox(children=(FloatProgress(value=0.0), HTML(value='')))"
      ]
     },
     "metadata": {},
     "output_type": "display_data"
    },
    {
     "name": "stdout",
     "output_type": "stream",
     "text": [
      "\n",
      "\n",
      "Calculating D2 variant z-scores: \n"
     ]
    },
    {
     "data": {
      "application/vnd.jupyter.widget-view+json": {
       "model_id": "5586b6eaf495498d8b67a11997f28061",
       "version_major": 2,
       "version_minor": 0
      },
      "text/plain": [
       "HBox(children=(FloatProgress(value=0.0), HTML(value='')))"
      ]
     },
     "metadata": {},
     "output_type": "display_data"
    },
    {
     "name": "stdout",
     "output_type": "stream",
     "text": [
      "\n",
      "\n",
      "cutoff = 1.0999999999999999\n",
      "number of D1 genes = 144\n",
      "number of D2 genes = 114\n",
      "number of shared genes = 25\n",
      "size of network intersection = 398\n",
      "observed size/ expected size = 3.0277672118676304\n",
      "p = 2.1598661579764417e-180\n",
      "\n",
      "Calculating D1 variant z-scores: \n"
     ]
    },
    {
     "data": {
      "application/vnd.jupyter.widget-view+json": {
       "model_id": "acc0812abe614e7895b30c5fdbea9cc9",
       "version_major": 2,
       "version_minor": 0
      },
      "text/plain": [
       "HBox(children=(FloatProgress(value=0.0), HTML(value='')))"
      ]
     },
     "metadata": {},
     "output_type": "display_data"
    },
    {
     "name": "stdout",
     "output_type": "stream",
     "text": [
      "\n",
      "\n",
      "Calculating D2 variant z-scores: \n"
     ]
    },
    {
     "data": {
      "application/vnd.jupyter.widget-view+json": {
       "model_id": "2f34c10b160a4370bba6c7badc5b51c8",
       "version_major": 2,
       "version_minor": 0
      },
      "text/plain": [
       "HBox(children=(FloatProgress(value=0.0), HTML(value='')))"
      ]
     },
     "metadata": {},
     "output_type": "display_data"
    },
    {
     "name": "stdout",
     "output_type": "stream",
     "text": [
      "\n",
      "\n",
      "cutoff = 1.2999999999999998\n",
      "number of D1 genes = 89\n",
      "number of D2 genes = 81\n",
      "number of shared genes = 11\n",
      "size of network intersection = 372\n",
      "observed size/ expected size = 3.2052386696536272\n",
      "p = 1.588880500244923e-148\n",
      "\n",
      "Calculating D1 variant z-scores: \n"
     ]
    },
    {
     "data": {
      "application/vnd.jupyter.widget-view+json": {
       "model_id": "35f12a7a034d40d5b37863f4b47ff3bd",
       "version_major": 2,
       "version_minor": 0
      },
      "text/plain": [
       "HBox(children=(FloatProgress(value=0.0), HTML(value='')))"
      ]
     },
     "metadata": {},
     "output_type": "display_data"
    },
    {
     "name": "stdout",
     "output_type": "stream",
     "text": [
      "\n",
      "\n",
      "Calculating D2 variant z-scores: \n"
     ]
    },
    {
     "data": {
      "application/vnd.jupyter.widget-view+json": {
       "model_id": "b5a572ce98fc4f278e48766987b33d4b",
       "version_major": 2,
       "version_minor": 0
      },
      "text/plain": [
       "HBox(children=(FloatProgress(value=0.0), HTML(value='')))"
      ]
     },
     "metadata": {},
     "output_type": "display_data"
    },
    {
     "name": "stdout",
     "output_type": "stream",
     "text": [
      "\n",
      "\n",
      "cutoff = 1.4999999999999998\n",
      "number of D1 genes = 41\n",
      "number of D2 genes = 56\n",
      "number of shared genes = 6\n",
      "size of network intersection = 307\n",
      "observed size/ expected size = 2.3333586683894505\n",
      "p = 8.36191792879547e-67\n",
      "\n",
      "Calculating D1 variant z-scores: \n"
     ]
    },
    {
     "data": {
      "application/vnd.jupyter.widget-view+json": {
       "model_id": "3fc97e0f96574229a1a5ababc1fef21b",
       "version_major": 2,
       "version_minor": 0
      },
      "text/plain": [
       "HBox(children=(FloatProgress(value=0.0), HTML(value='')))"
      ]
     },
     "metadata": {},
     "output_type": "display_data"
    },
    {
     "name": "stdout",
     "output_type": "stream",
     "text": [
      "\n",
      "\n",
      "Calculating D2 variant z-scores: \n"
     ]
    },
    {
     "data": {
      "application/vnd.jupyter.widget-view+json": {
       "model_id": "c707a332611b42d0b4233c982e7ecaab",
       "version_major": 2,
       "version_minor": 0
      },
      "text/plain": [
       "HBox(children=(FloatProgress(value=0.0), HTML(value='')))"
      ]
     },
     "metadata": {},
     "output_type": "display_data"
    },
    {
     "name": "stdout",
     "output_type": "stream",
     "text": [
      "\n",
      "\n",
      "cutoff = 1.6999999999999997\n",
      "number of D1 genes = 17\n",
      "number of D2 genes = 33\n",
      "number of shared genes = 1\n",
      "size of network intersection = 95\n",
      "observed size/ expected size = 0.9766628970905726\n",
      "p = 0.598246023787843\n",
      "\n",
      "Calculating D1 variant z-scores: \n"
     ]
    },
    {
     "data": {
      "application/vnd.jupyter.widget-view+json": {
       "model_id": "e29f8179796d48d3a4666031e7b43680",
       "version_major": 2,
       "version_minor": 0
      },
      "text/plain": [
       "HBox(children=(FloatProgress(value=0.0), HTML(value='')))"
      ]
     },
     "metadata": {},
     "output_type": "display_data"
    },
    {
     "name": "stdout",
     "output_type": "stream",
     "text": [
      "\n",
      "\n",
      "Calculating D2 variant z-scores: \n"
     ]
    },
    {
     "data": {
      "application/vnd.jupyter.widget-view+json": {
       "model_id": "9cf96073865148b39b06f9fa56cbbde6",
       "version_major": 2,
       "version_minor": 0
      },
      "text/plain": [
       "HBox(children=(FloatProgress(value=0.0), HTML(value='')))"
      ]
     },
     "metadata": {},
     "output_type": "display_data"
    },
    {
     "name": "stdout",
     "output_type": "stream",
     "text": [
      "\n",
      "\n",
      "cutoff = 1.8999999999999997\n",
      "number of D1 genes = 7\n",
      "number of D2 genes = 19\n",
      "number of shared genes = 1\n",
      "size of network intersection = 250\n",
      "observed size/ expected size = 2.731941864277128\n",
      "p = 1.2201374927023858e-62\n"
     ]
    }
   ],
   "source": [
    "netcoloc_pval_df=network_colocalization.sweep_input_pvals(D1_df,D2_df,\n",
    "                                                          w_double_prime,\n",
    "                      int_nodes,dict(G_int.degree),\n",
    "                      cutoff_list = np.arange(.5,2.1,.2),\n",
    "                      gene_column='Gene Name',\n",
    "                      score_column='foldchange',\n",
    "                      cutoff_max=False,\n",
    "                     num_reps=100,\n",
    "                     verbose=True,\n",
    "                     z_score_threshold=3,\n",
    "                     z12_threshold=1.5)"
   ]
  },
  {
   "cell_type": "code",
   "execution_count": 33,
   "metadata": {},
   "outputs": [
    {
     "data": {
      "text/html": [
       "<div>\n",
       "<style scoped>\n",
       "    .dataframe tbody tr th:only-of-type {\n",
       "        vertical-align: middle;\n",
       "    }\n",
       "\n",
       "    .dataframe tbody tr th {\n",
       "        vertical-align: top;\n",
       "    }\n",
       "\n",
       "    .dataframe thead th {\n",
       "        text-align: right;\n",
       "    }\n",
       "</style>\n",
       "<table border=\"1\" class=\"dataframe\">\n",
       "  <thead>\n",
       "    <tr style=\"text-align: right;\">\n",
       "      <th></th>\n",
       "      <th>score_cutoff</th>\n",
       "      <th>D1_num_genes</th>\n",
       "      <th>D2_num_genes</th>\n",
       "      <th>num_shared_genes</th>\n",
       "      <th>observed_overlap</th>\n",
       "      <th>expected_overlap_mean</th>\n",
       "      <th>expected_overlap_std</th>\n",
       "      <th>empirical_p</th>\n",
       "      <th>obs_exp</th>\n",
       "    </tr>\n",
       "  </thead>\n",
       "  <tbody>\n",
       "    <tr>\n",
       "      <th>0</th>\n",
       "      <td>0.5</td>\n",
       "      <td>199</td>\n",
       "      <td>130</td>\n",
       "      <td>29</td>\n",
       "      <td>422</td>\n",
       "      <td>142.09</td>\n",
       "      <td>9.813353</td>\n",
       "      <td>3.004896e-179</td>\n",
       "      <td>2.969949</td>\n",
       "    </tr>\n",
       "    <tr>\n",
       "      <th>1</th>\n",
       "      <td>0.7</td>\n",
       "      <td>191</td>\n",
       "      <td>128</td>\n",
       "      <td>29</td>\n",
       "      <td>412</td>\n",
       "      <td>140.90</td>\n",
       "      <td>10.014490</td>\n",
       "      <td>1.087624e-161</td>\n",
       "      <td>2.924060</td>\n",
       "    </tr>\n",
       "    <tr>\n",
       "      <th>2</th>\n",
       "      <td>0.9</td>\n",
       "      <td>183</td>\n",
       "      <td>124</td>\n",
       "      <td>29</td>\n",
       "      <td>427</td>\n",
       "      <td>136.01</td>\n",
       "      <td>10.089098</td>\n",
       "      <td>3.189782e-183</td>\n",
       "      <td>3.139475</td>\n",
       "    </tr>\n",
       "    <tr>\n",
       "      <th>3</th>\n",
       "      <td>1.1</td>\n",
       "      <td>144</td>\n",
       "      <td>114</td>\n",
       "      <td>25</td>\n",
       "      <td>398</td>\n",
       "      <td>131.45</td>\n",
       "      <td>9.314907</td>\n",
       "      <td>2.159866e-180</td>\n",
       "      <td>3.027767</td>\n",
       "    </tr>\n",
       "    <tr>\n",
       "      <th>4</th>\n",
       "      <td>1.3</td>\n",
       "      <td>89</td>\n",
       "      <td>81</td>\n",
       "      <td>11</td>\n",
       "      <td>372</td>\n",
       "      <td>116.06</td>\n",
       "      <td>9.870988</td>\n",
       "      <td>1.588881e-148</td>\n",
       "      <td>3.205239</td>\n",
       "    </tr>\n",
       "    <tr>\n",
       "      <th>5</th>\n",
       "      <td>1.5</td>\n",
       "      <td>41</td>\n",
       "      <td>56</td>\n",
       "      <td>6</td>\n",
       "      <td>307</td>\n",
       "      <td>131.57</td>\n",
       "      <td>10.183570</td>\n",
       "      <td>8.361918e-67</td>\n",
       "      <td>2.333359</td>\n",
       "    </tr>\n",
       "    <tr>\n",
       "      <th>6</th>\n",
       "      <td>1.7</td>\n",
       "      <td>17</td>\n",
       "      <td>33</td>\n",
       "      <td>1</td>\n",
       "      <td>95</td>\n",
       "      <td>97.27</td>\n",
       "      <td>9.123437</td>\n",
       "      <td>5.982460e-01</td>\n",
       "      <td>0.976663</td>\n",
       "    </tr>\n",
       "    <tr>\n",
       "      <th>7</th>\n",
       "      <td>1.9</td>\n",
       "      <td>7</td>\n",
       "      <td>19</td>\n",
       "      <td>1</td>\n",
       "      <td>250</td>\n",
       "      <td>91.51</td>\n",
       "      <td>9.511567</td>\n",
       "      <td>1.220137e-62</td>\n",
       "      <td>2.731942</td>\n",
       "    </tr>\n",
       "  </tbody>\n",
       "</table>\n",
       "</div>"
      ],
      "text/plain": [
       "   score_cutoff  D1_num_genes  D2_num_genes  num_shared_genes  \\\n",
       "0           0.5           199           130                29   \n",
       "1           0.7           191           128                29   \n",
       "2           0.9           183           124                29   \n",
       "3           1.1           144           114                25   \n",
       "4           1.3            89            81                11   \n",
       "5           1.5            41            56                 6   \n",
       "6           1.7            17            33                 1   \n",
       "7           1.9             7            19                 1   \n",
       "\n",
       "   observed_overlap  expected_overlap_mean  expected_overlap_std  \\\n",
       "0               422                 142.09              9.813353   \n",
       "1               412                 140.90             10.014490   \n",
       "2               427                 136.01             10.089098   \n",
       "3               398                 131.45              9.314907   \n",
       "4               372                 116.06              9.870988   \n",
       "5               307                 131.57             10.183570   \n",
       "6                95                  97.27              9.123437   \n",
       "7               250                  91.51              9.511567   \n",
       "\n",
       "     empirical_p   obs_exp  \n",
       "0  3.004896e-179  2.969949  \n",
       "1  1.087624e-161  2.924060  \n",
       "2  3.189782e-183  3.139475  \n",
       "3  2.159866e-180  3.027767  \n",
       "4  1.588881e-148  3.205239  \n",
       "5   8.361918e-67  2.333359  \n",
       "6   5.982460e-01  0.976663  \n",
       "7   1.220137e-62  2.731942  "
      ]
     },
     "execution_count": 33,
     "metadata": {},
     "output_type": "execute_result"
    }
   ],
   "source": [
    "netcoloc_pval_df"
   ]
  },
  {
   "cell_type": "code",
   "execution_count": 34,
   "metadata": {},
   "outputs": [
    {
     "data": {
      "text/plain": [
       "Text(0, 0.5, 'number of genes\\nin network intersection')"
      ]
     },
     "execution_count": 34,
     "metadata": {},
     "output_type": "execute_result"
    },
    {
     "data": {
      "image/png": "[encoded data removed]",
      "text/plain": [
       "<Figure size 360x360 with 1 Axes>"
      ]
     },
     "metadata": {
      "needs_background": "light"
     },
     "output_type": "display_data"
    },
    {
     "data": {
      "image/png": "[encoded data removed]",
      "text/plain": [
       "<Figure size 360x360 with 1 Axes>"
      ]
     },
     "metadata": {
      "needs_background": "light"
     },
     "output_type": "display_data"
    }
   ],
   "source": [
    "# plot the results\n",
    "plt.figure(figsize=(5,5))\n",
    "netcoloc_pval_df['average_D1_D2_num_genes']=(netcoloc_pval_df['D1_num_genes']+netcoloc_pval_df['D2_num_genes'])/2.0\n",
    "sns.scatterplot(x='score_cutoff',y='obs_exp',data=netcoloc_pval_df.dropna(),legend=False)\n",
    "sns.lineplot(x='score_cutoff',y='obs_exp',data=netcoloc_pval_df.dropna(),legend=False,alpha=.5)\n",
    "ymax=plt.gca().get_ylim()[1]\n",
    "plt.ylim([1,ymax])\n",
    "plt.ylabel('observed/expected\\nnetwork intersection size')\n",
    "\n",
    "plt.figure(figsize=(5,5))\n",
    "sns.scatterplot(x='score_cutoff',y='observed_overlap',data=netcoloc_pval_df.dropna(),legend=False)\n",
    "sns.lineplot(x='score_cutoff',y='observed_overlap',data=netcoloc_pval_df.dropna(),legend=False,alpha=.5)\n",
    "\n",
    "\n",
    "plt.ylabel('number of genes\\nin network intersection')"
   ]
  },
  {
   "cell_type": "code",
   "execution_count": null,
   "metadata": {},
   "outputs": [],
   "source": []
  },
  {
   "cell_type": "code",
   "execution_count": 38,
   "metadata": {},
   "outputs": [],
   "source": [
    "# set names of geneset 1 and geneset 2\n",
    "# ------ customize this section based on your gene sets and how they should be labeled -------\n",
    "d1_name='ASD'\n",
    "d2_name='CHD'"
   ]
  },
  {
   "cell_type": "code",
   "execution_count": 39,
   "metadata": {},
   "outputs": [
    {
     "name": "stdout",
     "output_type": "stream",
     "text": [
      "number ASD genes:\n",
      "102\n",
      "['CHD8', 'SCN2A', 'SYNGAP1', 'ADNP', 'FOXP1']\n"
     ]
    }
   ],
   "source": [
    "\n",
    "# ------ customize this section based your input genesets -------\n",
    "\n",
    "# load rare variants Satterstrom et al 2020; PMID: 31981491\n",
    "\n",
    "D1_df = pd.read_csv('data/Satterstrom--Top-102-ASD-genes--May2019.csv')\n",
    "D1_df.index = D1_df['gene']\n",
    "print('number '+d1_name+' genes:')\n",
    "print(len(D1_df))\n",
    "D1_genes = D1_df.index.tolist() # define rare variant genes to seed network propagation\n",
    "print(D1_genes[0:5])"
   ]
  },
  {
   "cell_type": "code",
   "execution_count": 40,
   "metadata": {},
   "outputs": [
    {
     "name": "stdout",
     "output_type": "stream",
     "text": [
      "number CHD genes:\n",
      "66\n",
      "['KMT2D', 'CHD7', 'PTPN11', 'NSD1', 'NOTCH1']\n"
     ]
    }
   ],
   "source": [
    "# ------ customize this section based your input genesets -------\n",
    "\n",
    "# load D2 rare variant genes from Jin et al 2017; PMID: 28991257\n",
    "D2_df = pd.read_csv('data/CHD_HC.tsv',sep='\\t')\n",
    "\n",
    "D2_genes = D2_df['0'].tolist()\n",
    "print('number '+d2_name+' genes:')\n",
    "print(len(D2_genes))\n",
    "print(D2_genes[0:5])"
   ]
  },
  {
   "cell_type": "code",
   "execution_count": 41,
   "metadata": {},
   "outputs": [
    {
     "name": "stdout",
     "output_type": "stream",
     "text": [
      "number of ASD and CHD genes overlapping:\n",
      "6\n"
     ]
    }
   ],
   "source": [
    "# Output the overlap between the two gene sets\n",
    "print('number of '+d1_name+' and '+d2_name+' genes overlapping:')\n",
    "print(len(np.intersect1d(D1_genes,D2_genes)))"
   ]
  },
  {
   "cell_type": "code",
   "execution_count": 42,
   "metadata": {},
   "outputs": [
    {
     "name": "stdout",
     "output_type": "stream",
     "text": [
      "\n",
      "Calculating D1 variant z-scores: \n"
     ]
    },
    {
     "data": {
      "application/vnd.jupyter.widget-view+json": {
       "model_id": "6b0318953e2b42cba41916e6f1cea951",
       "version_major": 2,
       "version_minor": 0
      },
      "text/plain": [
       "HBox(children=(FloatProgress(value=0.0), HTML(value='')))"
      ]
     },
     "metadata": {},
     "output_type": "display_data"
    },
    {
     "name": "stdout",
     "output_type": "stream",
     "text": [
      "\n"
     ]
    },
    {
     "data": {
      "text/html": [
       "<div>\n",
       "<style scoped>\n",
       "    .dataframe tbody tr th:only-of-type {\n",
       "        vertical-align: middle;\n",
       "    }\n",
       "\n",
       "    .dataframe tbody tr th {\n",
       "        vertical-align: top;\n",
       "    }\n",
       "\n",
       "    .dataframe thead th {\n",
       "        text-align: right;\n",
       "    }\n",
       "</style>\n",
       "<table border=\"1\" class=\"dataframe\">\n",
       "  <thead>\n",
       "    <tr style=\"text-align: right;\">\n",
       "      <th></th>\n",
       "      <th>z</th>\n",
       "    </tr>\n",
       "  </thead>\n",
       "  <tbody>\n",
       "    <tr>\n",
       "      <th>DIP2A</th>\n",
       "      <td>11.840699</td>\n",
       "    </tr>\n",
       "    <tr>\n",
       "      <th>PHF2</th>\n",
       "      <td>11.265714</td>\n",
       "    </tr>\n",
       "    <tr>\n",
       "      <th>BCL11A</th>\n",
       "      <td>10.476841</td>\n",
       "    </tr>\n",
       "    <tr>\n",
       "      <th>KMT2E</th>\n",
       "      <td>10.409355</td>\n",
       "    </tr>\n",
       "    <tr>\n",
       "      <th>ASXL3</th>\n",
       "      <td>10.354350</td>\n",
       "    </tr>\n",
       "  </tbody>\n",
       "</table>\n",
       "</div>"
      ],
      "text/plain": [
       "                z\n",
       "DIP2A   11.840699\n",
       "PHF2    11.265714\n",
       "BCL11A  10.476841\n",
       "KMT2E   10.409355\n",
       "ASXL3   10.354350"
      ]
     },
     "execution_count": 42,
     "metadata": {},
     "output_type": "execute_result"
    }
   ],
   "source": [
    "# D1 network propagation\n",
    "print('\\nCalculating D1 variant z-scores: ')\n",
    "z_D1, Fnew_D1, Fnew_rand_D1 = netprop_zscore.calculate_heat_zscores(w_double_prime, int_nodes, \n",
    "                                                                    dict(G_int.degree), \n",
    "                                                                    D1_genes, num_reps=100,\n",
    "                                                                    minimum_bin_size=100)\n",
    "\n",
    "z_D1 = pd.DataFrame({'z':z_D1})\n",
    "\n",
    "z_D1.sort_values('z',ascending=False).head()"
   ]
  },
  {
   "cell_type": "code",
   "execution_count": 43,
   "metadata": {},
   "outputs": [
    {
     "name": "stdout",
     "output_type": "stream",
     "text": [
      "\n",
      "Calculating D2 variant z-scores: \n"
     ]
    },
    {
     "data": {
      "application/vnd.jupyter.widget-view+json": {
       "model_id": "040c156c7fb74d67bacaf9b81ff1cb03",
       "version_major": 2,
       "version_minor": 0
      },
      "text/plain": [
       "HBox(children=(FloatProgress(value=0.0), HTML(value='')))"
      ]
     },
     "metadata": {},
     "output_type": "display_data"
    },
    {
     "name": "stdout",
     "output_type": "stream",
     "text": [
      "\n"
     ]
    },
    {
     "data": {
      "text/html": [
       "<div>\n",
       "<style scoped>\n",
       "    .dataframe tbody tr th:only-of-type {\n",
       "        vertical-align: middle;\n",
       "    }\n",
       "\n",
       "    .dataframe tbody tr th {\n",
       "        vertical-align: top;\n",
       "    }\n",
       "\n",
       "    .dataframe thead th {\n",
       "        text-align: right;\n",
       "    }\n",
       "</style>\n",
       "<table border=\"1\" class=\"dataframe\">\n",
       "  <thead>\n",
       "    <tr style=\"text-align: right;\">\n",
       "      <th></th>\n",
       "      <th>z</th>\n",
       "    </tr>\n",
       "  </thead>\n",
       "  <tbody>\n",
       "    <tr>\n",
       "      <th>CLUH</th>\n",
       "      <td>14.827075</td>\n",
       "    </tr>\n",
       "    <tr>\n",
       "      <th>MINK1</th>\n",
       "      <td>10.410173</td>\n",
       "    </tr>\n",
       "    <tr>\n",
       "      <th>ZEB2</th>\n",
       "      <td>9.379759</td>\n",
       "    </tr>\n",
       "    <tr>\n",
       "      <th>WHSC1</th>\n",
       "      <td>9.280966</td>\n",
       "    </tr>\n",
       "    <tr>\n",
       "      <th>BRAF</th>\n",
       "      <td>9.156948</td>\n",
       "    </tr>\n",
       "  </tbody>\n",
       "</table>\n",
       "</div>"
      ],
      "text/plain": [
       "               z\n",
       "CLUH   14.827075\n",
       "MINK1  10.410173\n",
       "ZEB2    9.379759\n",
       "WHSC1   9.280966\n",
       "BRAF    9.156948"
      ]
     },
     "execution_count": 43,
     "metadata": {},
     "output_type": "execute_result"
    }
   ],
   "source": [
    "# D2 variant network propagation\n",
    "print('\\nCalculating D2 variant z-scores: ')\n",
    "z_D2, Fnew_D2, Fnew_rand_D2 = netprop_zscore.calculate_heat_zscores(w_double_prime, int_nodes, \n",
    "                                                                    dict(G_int.degree), \n",
    "                                                                    D2_genes, num_reps=100,\n",
    "                                                                    minimum_bin_size=100)\n",
    "\n",
    "z_D2 = pd.DataFrame({'z':z_D2})\n",
    "z_D2.sort_values('z',ascending=False).head()"
   ]
  },
  {
   "cell_type": "code",
   "execution_count": 56,
   "metadata": {
    "scrolled": true
   },
   "outputs": [
    {
     "name": "stdout",
     "output_type": "stream",
     "text": [
      "z = 1\n",
      "z12 = 1\n",
      "size of network intersection = 779\n",
      "observed size/ expected size = 1.926024823221085\n",
      "p = 1.9835421668514495e-99\n",
      "z = 1\n",
      "z12 = 1.5\n",
      "size of network intersection = 364\n",
      "observed size/ expected size = 2.089072543617998\n",
      "p = 3.1809246470899832e-55\n",
      "z = 1\n",
      "z12 = 2\n",
      "size of network intersection = 178\n",
      "observed size/ expected size = 2.564102564102564\n",
      "p = 3.190977666387853e-38\n",
      "z = 2\n",
      "z12 = 1\n",
      "size of network intersection = 682\n",
      "observed size/ expected size = 2.0417327784929498\n",
      "p = 2.5941304946457788e-101\n",
      "z = 2\n",
      "z12 = 1.5\n",
      "size of network intersection = 364\n",
      "observed size/ expected size = 2.0962911771481227\n",
      "p = 8.482902381325276e-61\n",
      "z = 2\n",
      "z12 = 2\n",
      "size of network intersection = 178\n",
      "observed size/ expected size = 2.578215527230591\n",
      "p = 5.626887426089909e-46\n",
      "z = 3\n",
      "z12 = 1\n",
      "size of network intersection = 480\n",
      "observed size/ expected size = 2.0429878697595236\n",
      "p = 2.399043693233167e-74\n",
      "z = 3\n",
      "z12 = 1.5\n",
      "size of network intersection = 349\n",
      "observed size/ expected size = 2.1686447523768098\n",
      "p = 1.6692389146353343e-56\n",
      "z = 3\n",
      "z12 = 2\n",
      "size of network intersection = 178\n",
      "observed size/ expected size = 2.5395919532030247\n",
      "p = 7.08889464244477e-43\n",
      "z = 4\n",
      "z12 = 1\n",
      "size of network intersection = 325\n",
      "observed size/ expected size = 1.9863097420853195\n",
      "p = 8.660986041281843e-46\n",
      "z = 4\n",
      "z12 = 1.5\n",
      "size of network intersection = 278\n",
      "observed size/ expected size = 2.210384034348414\n",
      "p = 1.2215457733282453e-41\n",
      "z = 4\n",
      "z12 = 2\n",
      "size of network intersection = 178\n",
      "observed size/ expected size = 2.562625971782321\n",
      "p = 1.731764091294236e-49\n",
      "z = 5\n",
      "z12 = 1\n",
      "size of network intersection = 257\n",
      "observed size/ expected size = 2.1992127331850075\n",
      "p = 2.0176754175072326e-52\n",
      "z = 5\n",
      "z12 = 1.5\n",
      "size of network intersection = 235\n",
      "observed size/ expected size = 2.469006093717167\n",
      "p = 1.4504657540838786e-56\n",
      "z = 5\n",
      "z12 = 2\n",
      "size of network intersection = 170\n",
      "observed size/ expected size = 2.6860483488702798\n",
      "p = 7.528945389840008e-53\n",
      "z = 6\n",
      "z12 = 1\n",
      "size of network intersection = 194\n",
      "observed size/ expected size = 2.3384763741562202\n",
      "p = 1.3417826163626425e-38\n",
      "z = 6\n",
      "z12 = 1.5\n",
      "size of network intersection = 182\n",
      "observed size/ expected size = 2.515549412577747\n",
      "p = 1.7482501945041292e-54\n",
      "z = 6\n",
      "z12 = 2\n",
      "size of network intersection = 147\n",
      "observed size/ expected size = 2.927120669056153\n",
      "p = 2.022325722025574e-41\n",
      "z = 7\n",
      "z12 = 1\n",
      "size of network intersection = 146\n",
      "observed size/ expected size = 2.315255312400888\n",
      "p = 8.489166201994951e-28\n",
      "z = 7\n",
      "z12 = 1.5\n",
      "size of network intersection = 139\n",
      "observed size/ expected size = 2.521770682148041\n",
      "p = 2.0491402043963466e-32\n",
      "z = 7\n",
      "z12 = 2\n",
      "size of network intersection = 123\n",
      "observed size/ expected size = 3.011015911872705\n",
      "p = 3.084455915526627e-38\n",
      "z = 8\n",
      "z12 = 1\n",
      "size of network intersection = 112\n",
      "observed size/ expected size = 2.3333333333333335\n",
      "p = 1.1170746449435026e-22\n",
      "z = 8\n",
      "z12 = 1.5\n",
      "size of network intersection = 109\n",
      "observed size/ expected size = 2.581714827096163\n",
      "p = 7.768244446240334e-32\n",
      "z = 8\n",
      "z12 = 2\n",
      "size of network intersection = 100\n",
      "observed size/ expected size = 2.9779630732578917\n",
      "p = 1.786266962328851e-32\n",
      "z = 9\n",
      "z12 = 1\n",
      "size of network intersection = 91\n",
      "observed size/ expected size = 2.4383708467309755\n",
      "p = 2.061816618667393e-20\n",
      "z = 9\n",
      "z12 = 1.5\n",
      "size of network intersection = 90\n",
      "observed size/ expected size = 2.635431918008785\n",
      "p = 2.538208217972414e-24\n",
      "z = 9\n",
      "z12 = 2\n",
      "size of network intersection = 84\n",
      "observed size/ expected size = 3.043478260869565\n",
      "p = 2.348376297237504e-30\n",
      "z = 10\n",
      "z12 = 1\n",
      "size of network intersection = 78\n",
      "observed size/ expected size = 2.5870646766169156\n",
      "p = 1.252277376152553e-20\n",
      "z = 10\n",
      "z12 = 1.5\n",
      "size of network intersection = 77\n",
      "observed size/ expected size = 2.8677839851024207\n",
      "p = 4.295623558367907e-30\n",
      "z = 10\n",
      "z12 = 2\n",
      "size of network intersection = 71\n",
      "observed size/ expected size = 3.1953195319531953\n",
      "p = 3.145315808704323e-27\n",
      "z = 11\n",
      "z12 = 1\n",
      "size of network intersection = 71\n",
      "observed size/ expected size = 2.929042904290429\n",
      "p = 4.0370858727683094e-25\n",
      "z = 11\n",
      "z12 = 1.5\n",
      "size of network intersection = 71\n",
      "observed size/ expected size = 3.162583518930958\n",
      "p = 2.3572236503608592e-28\n",
      "z = 11\n",
      "z12 = 2\n",
      "size of network intersection = 67\n",
      "observed size/ expected size = 3.71191135734072\n",
      "p = 4.363962138962697e-37\n",
      "z = 12\n",
      "z12 = 1\n",
      "size of network intersection = 62\n",
      "observed size/ expected size = 3.2241289651586063\n",
      "p = 1.2246003944636064e-22\n",
      "z = 12\n",
      "z12 = 1.5\n",
      "size of network intersection = 62\n",
      "observed size/ expected size = 3.2563025210084033\n",
      "p = 2.2334046998243863e-22\n",
      "z = 12\n",
      "z12 = 2\n",
      "size of network intersection = 58\n",
      "observed size/ expected size = 3.6989795918367347\n",
      "p = 9.402281801755855e-32\n",
      "z = 13\n",
      "z12 = 1\n",
      "size of network intersection = 53\n",
      "observed size/ expected size = 3.208232445520581\n",
      "p = 8.293328054670086e-19\n",
      "z = 13\n",
      "z12 = 1.5\n",
      "size of network intersection = 53\n",
      "observed size/ expected size = 3.2455603184323336\n",
      "p = 6.936575371895611e-17\n",
      "z = 13\n",
      "z12 = 2\n",
      "size of network intersection = 50\n",
      "observed size/ expected size = 3.7907505686125855\n",
      "p = 8.276358439843467e-28\n",
      "z = 14\n",
      "z12 = 1\n",
      "size of network intersection = 46\n",
      "observed size/ expected size = 3.379867744305658\n",
      "p = 2.388320042243582e-21\n",
      "z = 14\n",
      "z12 = 1.5\n",
      "size of network intersection = 46\n",
      "observed size/ expected size = 3.479576399394856\n",
      "p = 4.803339550555538e-19\n",
      "z = 14\n",
      "z12 = 2\n",
      "size of network intersection = 43\n",
      "observed size/ expected size = 3.684661525278492\n",
      "p = 3.214583335815079e-22\n"
     ]
    },
    {
     "data": {
      "text/html": [
       "<div>\n",
       "<style scoped>\n",
       "    .dataframe tbody tr th:only-of-type {\n",
       "        vertical-align: middle;\n",
       "    }\n",
       "\n",
       "    .dataframe tbody tr th {\n",
       "        vertical-align: top;\n",
       "    }\n",
       "\n",
       "    .dataframe thead th {\n",
       "        text-align: right;\n",
       "    }\n",
       "</style>\n",
       "<table border=\"1\" class=\"dataframe\">\n",
       "  <thead>\n",
       "    <tr style=\"text-align: right;\">\n",
       "      <th></th>\n",
       "      <th>z_comb</th>\n",
       "      <th>z_12</th>\n",
       "      <th>observed_overlap</th>\n",
       "      <th>expected_overlap_mean</th>\n",
       "      <th>expected_overlap_std</th>\n",
       "      <th>empirical_p</th>\n",
       "      <th>obs_exp</th>\n",
       "    </tr>\n",
       "  </thead>\n",
       "  <tbody>\n",
       "    <tr>\n",
       "      <th>0</th>\n",
       "      <td>1</td>\n",
       "      <td>1.0</td>\n",
       "      <td>779</td>\n",
       "      <td>404.46</td>\n",
       "      <td>17.723104</td>\n",
       "      <td>1.983542e-99</td>\n",
       "      <td>1.926025</td>\n",
       "    </tr>\n",
       "    <tr>\n",
       "      <th>1</th>\n",
       "      <td>1</td>\n",
       "      <td>1.5</td>\n",
       "      <td>364</td>\n",
       "      <td>174.24</td>\n",
       "      <td>12.157401</td>\n",
       "      <td>3.180925e-55</td>\n",
       "      <td>2.089073</td>\n",
       "    </tr>\n",
       "    <tr>\n",
       "      <th>2</th>\n",
       "      <td>1</td>\n",
       "      <td>2.0</td>\n",
       "      <td>178</td>\n",
       "      <td>69.42</td>\n",
       "      <td>8.434667</td>\n",
       "      <td>3.190978e-38</td>\n",
       "      <td>2.564103</td>\n",
       "    </tr>\n",
       "    <tr>\n",
       "      <th>3</th>\n",
       "      <td>2</td>\n",
       "      <td>1.0</td>\n",
       "      <td>682</td>\n",
       "      <td>334.03</td>\n",
       "      <td>16.308559</td>\n",
       "      <td>2.594130e-101</td>\n",
       "      <td>2.041733</td>\n",
       "    </tr>\n",
       "    <tr>\n",
       "      <th>4</th>\n",
       "      <td>2</td>\n",
       "      <td>1.5</td>\n",
       "      <td>364</td>\n",
       "      <td>173.64</td>\n",
       "      <td>11.602172</td>\n",
       "      <td>8.482902e-61</td>\n",
       "      <td>2.096291</td>\n",
       "    </tr>\n",
       "  </tbody>\n",
       "</table>\n",
       "</div>"
      ],
      "text/plain": [
       "   z_comb  z_12  observed_overlap  expected_overlap_mean  \\\n",
       "0       1   1.0               779                 404.46   \n",
       "1       1   1.5               364                 174.24   \n",
       "2       1   2.0               178                  69.42   \n",
       "3       2   1.0               682                 334.03   \n",
       "4       2   1.5               364                 173.64   \n",
       "\n",
       "   expected_overlap_std    empirical_p   obs_exp  \n",
       "0             17.723104   1.983542e-99  1.926025  \n",
       "1             12.157401   3.180925e-55  2.089073  \n",
       "2              8.434667   3.190978e-38  2.564103  \n",
       "3             16.308559  2.594130e-101  2.041733  \n",
       "4             11.602172   8.482902e-61  2.096291  "
      ]
     },
     "execution_count": 56,
     "metadata": {},
     "output_type": "execute_result"
    }
   ],
   "source": [
    "zlist = list(np.arange(1,15))\n",
    "netcoloc_enrichment_df = network_colocalization.calculate_network_enrichment(z_D1,z_D2,zthresh_list = zlist,verbose=True)\n",
    "netcoloc_enrichment_df.head()"
   ]
  },
  {
   "cell_type": "code",
   "execution_count": 58,
   "metadata": {},
   "outputs": [
    {
     "data": {
      "text/plain": [
       "Text(0, 0.5, 'number of genes in \\nnetwork intersection')"
      ]
     },
     "execution_count": 58,
     "metadata": {},
     "output_type": "execute_result"
    },
    {
     "data": {
      "image/png": "[encoded data removed]",
      "text/plain": [
       "<Figure size 360x360 with 1 Axes>"
      ]
     },
     "metadata": {
      "needs_background": "light"
     },
     "output_type": "display_data"
    },
    {
     "data": {
      "image/png": "[encoded data removed]",
      "text/plain": [
       "<Figure size 360x360 with 1 Axes>"
      ]
     },
     "metadata": {
      "needs_background": "light"
     },
     "output_type": "display_data"
    }
   ],
   "source": [
    "plt.figure(figsize=(5,5))\n",
    "sns.lineplot(x='z_comb',y='obs_exp',data=netcoloc_enrichment_df,hue='z_12',style='z_12',\n",
    "            markers=['o','o','o'],dashes=False,palette='viridis')\n",
    "ylim_max=plt.gca().get_ylim()[1]\n",
    "plt.ylim([1,ylim_max])\n",
    "plt.plot([3,3],[1,ylim_max],'k--',alpha=.5)\n",
    "\n",
    "# loc = plticker.MultipleLocator(base=2.0) # this locator puts ticks at regular intervals\n",
    "# plt.gca().xaxis.set_major_locator(loc)\n",
    "plt.xlabel('z threshold')\n",
    "plt.ylabel('observed/expected \\nnetwork intersection size')\n",
    "\n",
    "\n",
    "plt.figure(figsize=(5,5))\n",
    "sns.lineplot(x='z_comb',y='observed_overlap',data=netcoloc_enrichment_df,hue='z_12',style='z_12',\n",
    "            markers=['o','o','o'],dashes=False,palette='viridis')\n",
    "\n",
    "ylim_max=plt.gca().get_ylim()[1]\n",
    "plt.ylim([0,ylim_max])\n",
    "plt.plot([3,3],[0,ylim_max],'k--',alpha=.5)\n",
    "# loc = plticker.MultipleLocator(base=2.0) # this locator puts ticks at regular intervals\n",
    "# plt.gca().xaxis.set_major_locator(loc)\n",
    "\n",
    "plt.xlabel('z threshold')\n",
    "plt.ylabel('number of genes in \\nnetwork intersection')\n",
    "\n"
   ]
  },
  {
   "cell_type": "code",
   "execution_count": null,
   "metadata": {},
   "outputs": [],
   "source": []
  }
 ],
 "metadata": {
  "kernelspec": {
   "display_name": "Python 3",
   "language": "python",
   "name": "python3"
  },
  "language_info": {
   "codemirror_mode": {
    "name": "ipython",
    "version": 3
   },
   "file_extension": ".py",
   "mimetype": "text/x-python",
   "name": "python",
   "nbconvert_exporter": "python",
   "pygments_lexer": "ipython3",
   "version": "3.7.4"
  }
 },
 "nbformat": 4,
 "nbformat_minor": 4
}
